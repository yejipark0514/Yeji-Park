{
 "cells": [
  {
   "cell_type": "code",
   "execution_count": null,
   "id": "46b4090d",
   "metadata": {},
   "outputs": [],
   "source": [
    "cd/Users/yeji-park/Downloads/PSU_DS310/project-1-ds310-spring-2024"
   ]
  },
  {
   "cell_type": "code",
   "execution_count": null,
   "id": "61f2778d",
   "metadata": {},
   "outputs": [],
   "source": [
    "# Data Pre-Processing\n",
    "\n",
    "import pandas as pd\n",
    "import numpy as np \n",
    "\n",
    "X_train = pd.read_csv('x_train.csv')  \n",
    "X_test = pd.read_csv('x_test.csv')    \n",
    "y_train = pd.read_csv('y_train.csv') \n",
    "samples = pd.read_csv('samples.csv')  \n",
    "\n",
    "y_train = y_train['Output']"
   ]
  },
  {
   "cell_type": "code",
   "execution_count": null,
   "id": "f785cfdd",
   "metadata": {},
   "outputs": [],
   "source": [
    "# Linear Regression\n",
    "from sklearn.linear_model import LinearRegression\n",
    "\n",
    "# Create Linear Regression Model\n",
    "LR_model = LinearRegression()\n",
    "LR_model.fit(X_train, y_train)  \n",
    "\n",
    "# Make Predictions\n",
    "y_pred = LR_model.predict(X_test)\n",
    "\n",
    "# Add predictions to samples.csv as a new column\n",
    "samples['Output'] = y_pred \n",
    "\n",
    "# Select only the first and third columns\n",
    "samples_subset = samples[['Sl. No.', 'Output']]  \n",
    "\n",
    "# Save only the first and third columns to samples.csv\n",
    "samples_subset.to_csv('samplesLinReg.csv', index=False)"
   ]
  },
  {
   "cell_type": "code",
   "execution_count": null,
   "id": "1c4b17b5",
   "metadata": {},
   "outputs": [],
   "source": [
    "# Ridge Regression\n",
    "\n",
    "from sklearn.linear_model import Ridge\n",
    "from sklearn.model_selection import GridSearchCV\n",
    "from sklearn.metrics import mean_squared_error\n",
    "\n",
    "\n",
    "model = Ridge(alpha = 1.0)\n",
    "model.fit(X_train, y_train)\n",
    "\n",
    "\n",
    "# Define hyperparameters for grid search\n",
    "params = {'alpha': np.logspace(-3, 3, 100)}\n",
    "\n",
    "# Perform grid search with cross-validation\n",
    "grid_search = GridSearchCV(estimator=model, param_grid=params, cv=5)\n",
    "grid_search.fit(X_train, y_train)\n",
    "\n",
    "# Get the best model\n",
    "best_model = grid_search.best_estimator_\n",
    "\n",
    "# Make predictions\n",
    "y_pred = best_model.predict(X_test)\n",
    "\n",
    "\n",
    "# Add predictions to samples.csv as a new column\n",
    "samples = pd.read_csv('sampleSubmission.csv')\n",
    "\n",
    "samples['Output'] = y_pred \n",
    "\n",
    "# Select only the first and third columns\n",
    "samples_subset = samples[['Sl. No.', 'Output']]  \n",
    "\n",
    "# Save only the first and third columns to samples.csv\n",
    "samples_subset.to_csv('samplesRidge.csv', index=False)\n",
    "\n",
    "# public MSE = 3180"
   ]
  },
  {
   "cell_type": "code",
   "execution_count": null,
   "id": "8a056085",
   "metadata": {},
   "outputs": [],
   "source": [
    "# Ridge Regression with no Hyperparameter Tuning\n",
    "\n",
    "model = Ridge()\n",
    "model.fit(X_train, y_train)\n",
    "\n",
    "y_pred = model.predict(X_test)\n",
    "\n",
    "# Add predictions to samples.csv as a new column\n",
    "samples['Output'] = y_pred \n",
    "\n",
    "# Select only the first and third columns\n",
    "samples_subset = samples[['Sl. No.', 'Output']]  \n",
    "\n",
    "# Save only the first and third columns to samples.csv\n",
    "samples_subset.to_csv('samplesRidgeSimple.csv', index=False)"
   ]
  },
  {
   "cell_type": "code",
   "execution_count": null,
   "id": "1b3e1916",
   "metadata": {},
   "outputs": [],
   "source": [
    "from sklearn.linear_model import Lasso\n",
    "\n",
    "# Lasso with alpha = 0.1 \n",
    "\n",
    "# Create Lasso Regression Model\n",
    "model = Lasso(alpha = 0.1)\n",
    "model.fit(X_train, y_train)\n",
    "\n",
    "y_pred = model.predict(X_test)\n",
    "\n",
    "# Add predictions to samples.csv as a new column\n",
    "samples['Output'] = y_pred \n",
    "\n",
    "# Select only the first and third columns\n",
    "samples_subset = samples[['Sl. No.', 'Output']]  \n",
    "\n",
    "# Save only the first and third columns to samples.csv\n",
    "samples_subset.to_csv('samplesLasso0.1.csv', index=False)"
   ]
  }
 ],
 "metadata": {
  "kernelspec": {
   "display_name": "Python 3 (ipykernel)",
   "language": "python",
   "name": "python3"
  },
  "language_info": {
   "codemirror_mode": {
    "name": "ipython",
    "version": 3
   },
   "file_extension": ".py",
   "mimetype": "text/x-python",
   "name": "python",
   "nbconvert_exporter": "python",
   "pygments_lexer": "ipython3",
   "version": "3.11.5"
  }
 },
 "nbformat": 4,
 "nbformat_minor": 5
}
