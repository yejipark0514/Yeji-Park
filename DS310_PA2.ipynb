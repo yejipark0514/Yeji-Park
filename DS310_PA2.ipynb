{
  "cells": [
    {
      "cell_type": "code",
      "execution_count": null,
      "metadata": {
        "id": "SBEGY_cOqZdK"
      },
      "outputs": [],
      "source": [
        "# Libraries\n",
        "import pandas as pd\n",
        "import numpy as np\n",
        "from sklearn import metrics\n",
        "from sklearn.model_selection import train_test_split\n",
        "from sklearn.model_selection import GridSearchCV\n",
        "import seaborn as sb\n",
        "from sklearn.metrics import classification_report\n",
        "from sklearn.metrics import roc_auc_score\n",
        "import warnings\n",
        "\n",
        "warnings.filterwarnings(\"ignore\")"
      ]
    },
    {
      "cell_type": "code",
      "execution_count": null,
      "metadata": {
        "id": "LFyxs52jI_pO"
      },
      "outputs": [],
      "source": [
        "#from google.colab import drive\n",
        "#drive.mount('/content/drive')"
      ]
    },
    {
      "cell_type": "code",
      "execution_count": null,
      "metadata": {
        "id": "tOSMiFBkq4ix"
      },
      "outputs": [],
      "source": [
        "# Import datasets\n",
        "train = pd.read_csv(\"train_data.csv\")\n",
        "X_test = pd.read_csv(\"test_data.csv\")\n",
        "samples = pd.read_csv(\"sampleSubmission.csv\")"
      ]
    },
    {
      "cell_type": "markdown",
      "metadata": {
        "id": "n1GUgxn_NtAj"
      },
      "source": [
        "# Data Cleaning"
      ]
    },
    {
      "cell_type": "code",
      "execution_count": null,
      "metadata": {
        "colab": {
          "base_uri": "https://localhost:8080/",
          "height": 592
        },
        "id": "TkDHoVD_E5rv",
        "outputId": "96130530-c926-45dc-cc92-ca2c55c9593d"
      },
      "outputs": [
        {
          "output_type": "execute_result",
          "data": {
            "text/plain": [
              "       Name       Revenue  Revenue Growth  Cost of Revenue  Gross Profit  \\\n",
              "0      SBFG  4.520300e+07        0.051400     0.000000e+00  4.520300e+07   \n",
              "1      FOMX  3.669000e+06       -0.336200     1.300000e+04  3.656000e+06   \n",
              "2       VIA  1.326300e+10        0.953124     7.436000e+09  5.827000e+09   \n",
              "3       ABM  5.453600e+09        0.060000     4.881200e+09  5.724000e+08   \n",
              "4       THS  6.307100e+09        0.021400     5.226700e+09  1.080400e+09   \n",
              "...     ...           ...             ...              ...           ...   \n",
              "1483   SUNW  7.744800e+07       -0.103800     6.378500e+07  1.366300e+07   \n",
              "1484   TACT  5.631100e+07       -0.016100     2.964900e+07  2.666200e+07   \n",
              "1485   TCCO  3.725006e+06        0.476500     1.917890e+06  1.807116e+06   \n",
              "1486  USATP  1.040000e+08        0.953124     7.700000e+07  2.700000e+07   \n",
              "1487   WSTG  1.605670e+08       -0.024600     1.334910e+08  2.707600e+07   \n",
              "\n",
              "      R&D Expenses  SG&A Expense  Operating Expenses  Operating Income  \\\n",
              "0     0.000000e+00  2.754700e+07        3.157800e+07      1.362500e+07   \n",
              "1     5.777900e+07  1.149100e+07        6.927000e+07     -6.561400e+07   \n",
              "2     1.061590e+08  3.005000e+09        3.228000e+09      2.599000e+09   \n",
              "3     0.000000e+00  4.366000e+08        4.706000e+08      1.018000e+08   \n",
              "4     0.000000e+00  7.007000e+08        1.493200e+09     -4.128000e+08   \n",
              "...            ...           ...                 ...               ...   \n",
              "1483  0.000000e+00  1.840800e+07        1.997700e+07     -6.314000e+06   \n",
              "1484  4.303000e+06  1.554500e+07        1.984800e+07      6.814000e+06   \n",
              "1485  1.584210e+06  2.144532e+06        3.728742e+06     -1.921626e+06   \n",
              "1486  1.061590e+08  2.500000e+07        2.700000e+07      0.000000e+00   \n",
              "1487  0.000000e+00  1.926300e+07        1.926300e+07      7.813000e+06   \n",
              "\n",
              "      Interest Expense  ...  3Y Dividend per Share Growth (per Share)  \\\n",
              "0         0.000000e+00  ...                                  0.205100   \n",
              "1         0.000000e+00  ...                                  0.000000   \n",
              "2         9.963788e+07  ...                                  0.005444   \n",
              "3         1.920000e+07  ...                                  0.031300   \n",
              "4         1.268000e+08  ...                                  0.000000   \n",
              "...                ...  ...                                       ...   \n",
              "1483      9.240000e+05  ...                                  0.000000   \n",
              "1484      3.300000e+04  ...                                  0.041300   \n",
              "1485      0.000000e+00  ...                                  0.000000   \n",
              "1486      1.000000e+06  ...                                  0.005444   \n",
              "1487     -6.990000e+05  ...                                  0.000000   \n",
              "\n",
              "      Receivables growth  Inventory Growth  Asset Growth  \\\n",
              "0               0.000000           0.00000       0.07430   \n",
              "1              -0.692200           0.00000      -0.40830   \n",
              "2               9.660352           0.11746       1.08525   \n",
              "3               0.291700           0.00000       0.67310   \n",
              "4              -0.231200          -0.06100      -0.11710   \n",
              "...                  ...               ...           ...   \n",
              "1483           -0.189100           0.31110      -0.01280   \n",
              "1484            0.034300          -0.08570       0.05950   \n",
              "1485            5.528200          -0.17370      -0.28080   \n",
              "1486            9.660352           0.11746       1.08525   \n",
              "1487           -0.093400           0.20220      -0.07920   \n",
              "\n",
              "      Book Value per Share Growth  Debt Growth  R&D Expense Growth  \\\n",
              "0                         0.10080    -0.072900            0.000000   \n",
              "1                        -0.54460    -1.000000            1.231100   \n",
              "2                         0.22719     1.457853            0.383984   \n",
              "3                         0.37820     3.391400            0.000000   \n",
              "4                        -0.11810    -0.087900            0.000000   \n",
              "...                           ...          ...                 ...   \n",
              "1483                     -0.32770    -0.528500            0.000000   \n",
              "1484                      0.10640     0.000000           -0.027600   \n",
              "1485                     -0.38640     0.000000            0.913300   \n",
              "1486                      0.22719     1.457853            0.383984   \n",
              "1487                      0.07820     0.000000            0.000000   \n",
              "\n",
              "      SG&A Expenses Growth              Sector  Class  \n",
              "0                 0.009600  Financial Services    0.0  \n",
              "1                 0.246200          Healthcare    0.0  \n",
              "2                 0.719938   Consumer Cyclical    0.0  \n",
              "3                 0.064600         Industrials    0.0  \n",
              "4                -0.059200  Consumer Defensive    1.0  \n",
              "...                    ...                 ...    ...  \n",
              "1483             -0.225400          Technology    NaN  \n",
              "1484              0.096700          Technology    NaN  \n",
              "1485             -0.197000          Technology    NaN  \n",
              "1486              0.719938          Technology    NaN  \n",
              "1487              0.029300          Technology    NaN  \n",
              "\n",
              "[4947 rows x 224 columns]"
            ],
            "text/html": [
              "\n",
              "  <div id=\"df-80e2136c-8864-4332-9488-276d3190601d\" class=\"colab-df-container\">\n",
              "    <div>\n",
              "<style scoped>\n",
              "    .dataframe tbody tr th:only-of-type {\n",
              "        vertical-align: middle;\n",
              "    }\n",
              "\n",
              "    .dataframe tbody tr th {\n",
              "        vertical-align: top;\n",
              "    }\n",
              "\n",
              "    .dataframe thead th {\n",
              "        text-align: right;\n",
              "    }\n",
              "</style>\n",
              "<table border=\"1\" class=\"dataframe\">\n",
              "  <thead>\n",
              "    <tr style=\"text-align: right;\">\n",
              "      <th></th>\n",
              "      <th>Name</th>\n",
              "      <th>Revenue</th>\n",
              "      <th>Revenue Growth</th>\n",
              "      <th>Cost of Revenue</th>\n",
              "      <th>Gross Profit</th>\n",
              "      <th>R&amp;D Expenses</th>\n",
              "      <th>SG&amp;A Expense</th>\n",
              "      <th>Operating Expenses</th>\n",
              "      <th>Operating Income</th>\n",
              "      <th>Interest Expense</th>\n",
              "      <th>...</th>\n",
              "      <th>3Y Dividend per Share Growth (per Share)</th>\n",
              "      <th>Receivables growth</th>\n",
              "      <th>Inventory Growth</th>\n",
              "      <th>Asset Growth</th>\n",
              "      <th>Book Value per Share Growth</th>\n",
              "      <th>Debt Growth</th>\n",
              "      <th>R&amp;D Expense Growth</th>\n",
              "      <th>SG&amp;A Expenses Growth</th>\n",
              "      <th>Sector</th>\n",
              "      <th>Class</th>\n",
              "    </tr>\n",
              "  </thead>\n",
              "  <tbody>\n",
              "    <tr>\n",
              "      <th>0</th>\n",
              "      <td>SBFG</td>\n",
              "      <td>4.520300e+07</td>\n",
              "      <td>0.051400</td>\n",
              "      <td>0.000000e+00</td>\n",
              "      <td>4.520300e+07</td>\n",
              "      <td>0.000000e+00</td>\n",
              "      <td>2.754700e+07</td>\n",
              "      <td>3.157800e+07</td>\n",
              "      <td>1.362500e+07</td>\n",
              "      <td>0.000000e+00</td>\n",
              "      <td>...</td>\n",
              "      <td>0.205100</td>\n",
              "      <td>0.000000</td>\n",
              "      <td>0.00000</td>\n",
              "      <td>0.07430</td>\n",
              "      <td>0.10080</td>\n",
              "      <td>-0.072900</td>\n",
              "      <td>0.000000</td>\n",
              "      <td>0.009600</td>\n",
              "      <td>Financial Services</td>\n",
              "      <td>0.0</td>\n",
              "    </tr>\n",
              "    <tr>\n",
              "      <th>1</th>\n",
              "      <td>FOMX</td>\n",
              "      <td>3.669000e+06</td>\n",
              "      <td>-0.336200</td>\n",
              "      <td>1.300000e+04</td>\n",
              "      <td>3.656000e+06</td>\n",
              "      <td>5.777900e+07</td>\n",
              "      <td>1.149100e+07</td>\n",
              "      <td>6.927000e+07</td>\n",
              "      <td>-6.561400e+07</td>\n",
              "      <td>0.000000e+00</td>\n",
              "      <td>...</td>\n",
              "      <td>0.000000</td>\n",
              "      <td>-0.692200</td>\n",
              "      <td>0.00000</td>\n",
              "      <td>-0.40830</td>\n",
              "      <td>-0.54460</td>\n",
              "      <td>-1.000000</td>\n",
              "      <td>1.231100</td>\n",
              "      <td>0.246200</td>\n",
              "      <td>Healthcare</td>\n",
              "      <td>0.0</td>\n",
              "    </tr>\n",
              "    <tr>\n",
              "      <th>2</th>\n",
              "      <td>VIA</td>\n",
              "      <td>1.326300e+10</td>\n",
              "      <td>0.953124</td>\n",
              "      <td>7.436000e+09</td>\n",
              "      <td>5.827000e+09</td>\n",
              "      <td>1.061590e+08</td>\n",
              "      <td>3.005000e+09</td>\n",
              "      <td>3.228000e+09</td>\n",
              "      <td>2.599000e+09</td>\n",
              "      <td>9.963788e+07</td>\n",
              "      <td>...</td>\n",
              "      <td>0.005444</td>\n",
              "      <td>9.660352</td>\n",
              "      <td>0.11746</td>\n",
              "      <td>1.08525</td>\n",
              "      <td>0.22719</td>\n",
              "      <td>1.457853</td>\n",
              "      <td>0.383984</td>\n",
              "      <td>0.719938</td>\n",
              "      <td>Consumer Cyclical</td>\n",
              "      <td>0.0</td>\n",
              "    </tr>\n",
              "    <tr>\n",
              "      <th>3</th>\n",
              "      <td>ABM</td>\n",
              "      <td>5.453600e+09</td>\n",
              "      <td>0.060000</td>\n",
              "      <td>4.881200e+09</td>\n",
              "      <td>5.724000e+08</td>\n",
              "      <td>0.000000e+00</td>\n",
              "      <td>4.366000e+08</td>\n",
              "      <td>4.706000e+08</td>\n",
              "      <td>1.018000e+08</td>\n",
              "      <td>1.920000e+07</td>\n",
              "      <td>...</td>\n",
              "      <td>0.031300</td>\n",
              "      <td>0.291700</td>\n",
              "      <td>0.00000</td>\n",
              "      <td>0.67310</td>\n",
              "      <td>0.37820</td>\n",
              "      <td>3.391400</td>\n",
              "      <td>0.000000</td>\n",
              "      <td>0.064600</td>\n",
              "      <td>Industrials</td>\n",
              "      <td>0.0</td>\n",
              "    </tr>\n",
              "    <tr>\n",
              "      <th>4</th>\n",
              "      <td>THS</td>\n",
              "      <td>6.307100e+09</td>\n",
              "      <td>0.021400</td>\n",
              "      <td>5.226700e+09</td>\n",
              "      <td>1.080400e+09</td>\n",
              "      <td>0.000000e+00</td>\n",
              "      <td>7.007000e+08</td>\n",
              "      <td>1.493200e+09</td>\n",
              "      <td>-4.128000e+08</td>\n",
              "      <td>1.268000e+08</td>\n",
              "      <td>...</td>\n",
              "      <td>0.000000</td>\n",
              "      <td>-0.231200</td>\n",
              "      <td>-0.06100</td>\n",
              "      <td>-0.11710</td>\n",
              "      <td>-0.11810</td>\n",
              "      <td>-0.087900</td>\n",
              "      <td>0.000000</td>\n",
              "      <td>-0.059200</td>\n",
              "      <td>Consumer Defensive</td>\n",
              "      <td>1.0</td>\n",
              "    </tr>\n",
              "    <tr>\n",
              "      <th>...</th>\n",
              "      <td>...</td>\n",
              "      <td>...</td>\n",
              "      <td>...</td>\n",
              "      <td>...</td>\n",
              "      <td>...</td>\n",
              "      <td>...</td>\n",
              "      <td>...</td>\n",
              "      <td>...</td>\n",
              "      <td>...</td>\n",
              "      <td>...</td>\n",
              "      <td>...</td>\n",
              "      <td>...</td>\n",
              "      <td>...</td>\n",
              "      <td>...</td>\n",
              "      <td>...</td>\n",
              "      <td>...</td>\n",
              "      <td>...</td>\n",
              "      <td>...</td>\n",
              "      <td>...</td>\n",
              "      <td>...</td>\n",
              "      <td>...</td>\n",
              "    </tr>\n",
              "    <tr>\n",
              "      <th>1483</th>\n",
              "      <td>SUNW</td>\n",
              "      <td>7.744800e+07</td>\n",
              "      <td>-0.103800</td>\n",
              "      <td>6.378500e+07</td>\n",
              "      <td>1.366300e+07</td>\n",
              "      <td>0.000000e+00</td>\n",
              "      <td>1.840800e+07</td>\n",
              "      <td>1.997700e+07</td>\n",
              "      <td>-6.314000e+06</td>\n",
              "      <td>9.240000e+05</td>\n",
              "      <td>...</td>\n",
              "      <td>0.000000</td>\n",
              "      <td>-0.189100</td>\n",
              "      <td>0.31110</td>\n",
              "      <td>-0.01280</td>\n",
              "      <td>-0.32770</td>\n",
              "      <td>-0.528500</td>\n",
              "      <td>0.000000</td>\n",
              "      <td>-0.225400</td>\n",
              "      <td>Technology</td>\n",
              "      <td>NaN</td>\n",
              "    </tr>\n",
              "    <tr>\n",
              "      <th>1484</th>\n",
              "      <td>TACT</td>\n",
              "      <td>5.631100e+07</td>\n",
              "      <td>-0.016100</td>\n",
              "      <td>2.964900e+07</td>\n",
              "      <td>2.666200e+07</td>\n",
              "      <td>4.303000e+06</td>\n",
              "      <td>1.554500e+07</td>\n",
              "      <td>1.984800e+07</td>\n",
              "      <td>6.814000e+06</td>\n",
              "      <td>3.300000e+04</td>\n",
              "      <td>...</td>\n",
              "      <td>0.041300</td>\n",
              "      <td>0.034300</td>\n",
              "      <td>-0.08570</td>\n",
              "      <td>0.05950</td>\n",
              "      <td>0.10640</td>\n",
              "      <td>0.000000</td>\n",
              "      <td>-0.027600</td>\n",
              "      <td>0.096700</td>\n",
              "      <td>Technology</td>\n",
              "      <td>NaN</td>\n",
              "    </tr>\n",
              "    <tr>\n",
              "      <th>1485</th>\n",
              "      <td>TCCO</td>\n",
              "      <td>3.725006e+06</td>\n",
              "      <td>0.476500</td>\n",
              "      <td>1.917890e+06</td>\n",
              "      <td>1.807116e+06</td>\n",
              "      <td>1.584210e+06</td>\n",
              "      <td>2.144532e+06</td>\n",
              "      <td>3.728742e+06</td>\n",
              "      <td>-1.921626e+06</td>\n",
              "      <td>0.000000e+00</td>\n",
              "      <td>...</td>\n",
              "      <td>0.000000</td>\n",
              "      <td>5.528200</td>\n",
              "      <td>-0.17370</td>\n",
              "      <td>-0.28080</td>\n",
              "      <td>-0.38640</td>\n",
              "      <td>0.000000</td>\n",
              "      <td>0.913300</td>\n",
              "      <td>-0.197000</td>\n",
              "      <td>Technology</td>\n",
              "      <td>NaN</td>\n",
              "    </tr>\n",
              "    <tr>\n",
              "      <th>1486</th>\n",
              "      <td>USATP</td>\n",
              "      <td>1.040000e+08</td>\n",
              "      <td>0.953124</td>\n",
              "      <td>7.700000e+07</td>\n",
              "      <td>2.700000e+07</td>\n",
              "      <td>1.061590e+08</td>\n",
              "      <td>2.500000e+07</td>\n",
              "      <td>2.700000e+07</td>\n",
              "      <td>0.000000e+00</td>\n",
              "      <td>1.000000e+06</td>\n",
              "      <td>...</td>\n",
              "      <td>0.005444</td>\n",
              "      <td>9.660352</td>\n",
              "      <td>0.11746</td>\n",
              "      <td>1.08525</td>\n",
              "      <td>0.22719</td>\n",
              "      <td>1.457853</td>\n",
              "      <td>0.383984</td>\n",
              "      <td>0.719938</td>\n",
              "      <td>Technology</td>\n",
              "      <td>NaN</td>\n",
              "    </tr>\n",
              "    <tr>\n",
              "      <th>1487</th>\n",
              "      <td>WSTG</td>\n",
              "      <td>1.605670e+08</td>\n",
              "      <td>-0.024600</td>\n",
              "      <td>1.334910e+08</td>\n",
              "      <td>2.707600e+07</td>\n",
              "      <td>0.000000e+00</td>\n",
              "      <td>1.926300e+07</td>\n",
              "      <td>1.926300e+07</td>\n",
              "      <td>7.813000e+06</td>\n",
              "      <td>-6.990000e+05</td>\n",
              "      <td>...</td>\n",
              "      <td>0.000000</td>\n",
              "      <td>-0.093400</td>\n",
              "      <td>0.20220</td>\n",
              "      <td>-0.07920</td>\n",
              "      <td>0.07820</td>\n",
              "      <td>0.000000</td>\n",
              "      <td>0.000000</td>\n",
              "      <td>0.029300</td>\n",
              "      <td>Technology</td>\n",
              "      <td>NaN</td>\n",
              "    </tr>\n",
              "  </tbody>\n",
              "</table>\n",
              "<p>4947 rows × 224 columns</p>\n",
              "</div>\n",
              "    <div class=\"colab-df-buttons\">\n",
              "\n",
              "  <div class=\"colab-df-container\">\n",
              "    <button class=\"colab-df-convert\" onclick=\"convertToInteractive('df-80e2136c-8864-4332-9488-276d3190601d')\"\n",
              "            title=\"Convert this dataframe to an interactive table.\"\n",
              "            style=\"display:none;\">\n",
              "\n",
              "  <svg xmlns=\"http://www.w3.org/2000/svg\" height=\"24px\" viewBox=\"0 -960 960 960\">\n",
              "    <path d=\"M120-120v-720h720v720H120Zm60-500h600v-160H180v160Zm220 220h160v-160H400v160Zm0 220h160v-160H400v160ZM180-400h160v-160H180v160Zm440 0h160v-160H620v160ZM180-180h160v-160H180v160Zm440 0h160v-160H620v160Z\"/>\n",
              "  </svg>\n",
              "    </button>\n",
              "\n",
              "  <style>\n",
              "    .colab-df-container {\n",
              "      display:flex;\n",
              "      gap: 12px;\n",
              "    }\n",
              "\n",
              "    .colab-df-convert {\n",
              "      background-color: #E8F0FE;\n",
              "      border: none;\n",
              "      border-radius: 50%;\n",
              "      cursor: pointer;\n",
              "      display: none;\n",
              "      fill: #1967D2;\n",
              "      height: 32px;\n",
              "      padding: 0 0 0 0;\n",
              "      width: 32px;\n",
              "    }\n",
              "\n",
              "    .colab-df-convert:hover {\n",
              "      background-color: #E2EBFA;\n",
              "      box-shadow: 0px 1px 2px rgba(60, 64, 67, 0.3), 0px 1px 3px 1px rgba(60, 64, 67, 0.15);\n",
              "      fill: #174EA6;\n",
              "    }\n",
              "\n",
              "    .colab-df-buttons div {\n",
              "      margin-bottom: 4px;\n",
              "    }\n",
              "\n",
              "    [theme=dark] .colab-df-convert {\n",
              "      background-color: #3B4455;\n",
              "      fill: #D2E3FC;\n",
              "    }\n",
              "\n",
              "    [theme=dark] .colab-df-convert:hover {\n",
              "      background-color: #434B5C;\n",
              "      box-shadow: 0px 1px 3px 1px rgba(0, 0, 0, 0.15);\n",
              "      filter: drop-shadow(0px 1px 2px rgba(0, 0, 0, 0.3));\n",
              "      fill: #FFFFFF;\n",
              "    }\n",
              "  </style>\n",
              "\n",
              "    <script>\n",
              "      const buttonEl =\n",
              "        document.querySelector('#df-80e2136c-8864-4332-9488-276d3190601d button.colab-df-convert');\n",
              "      buttonEl.style.display =\n",
              "        google.colab.kernel.accessAllowed ? 'block' : 'none';\n",
              "\n",
              "      async function convertToInteractive(key) {\n",
              "        const element = document.querySelector('#df-80e2136c-8864-4332-9488-276d3190601d');\n",
              "        const dataTable =\n",
              "          await google.colab.kernel.invokeFunction('convertToInteractive',\n",
              "                                                    [key], {});\n",
              "        if (!dataTable) return;\n",
              "\n",
              "        const docLinkHtml = 'Like what you see? Visit the ' +\n",
              "          '<a target=\"_blank\" href=https://colab.research.google.com/notebooks/data_table.ipynb>data table notebook</a>'\n",
              "          + ' to learn more about interactive tables.';\n",
              "        element.innerHTML = '';\n",
              "        dataTable['output_type'] = 'display_data';\n",
              "        await google.colab.output.renderOutput(dataTable, element);\n",
              "        const docLink = document.createElement('div');\n",
              "        docLink.innerHTML = docLinkHtml;\n",
              "        element.appendChild(docLink);\n",
              "      }\n",
              "    </script>\n",
              "  </div>\n",
              "\n",
              "\n",
              "<div id=\"df-376c0563-b5d5-4b3b-88d5-03700573bdb3\">\n",
              "  <button class=\"colab-df-quickchart\" onclick=\"quickchart('df-376c0563-b5d5-4b3b-88d5-03700573bdb3')\"\n",
              "            title=\"Suggest charts\"\n",
              "            style=\"display:none;\">\n",
              "\n",
              "<svg xmlns=\"http://www.w3.org/2000/svg\" height=\"24px\"viewBox=\"0 0 24 24\"\n",
              "     width=\"24px\">\n",
              "    <g>\n",
              "        <path d=\"M19 3H5c-1.1 0-2 .9-2 2v14c0 1.1.9 2 2 2h14c1.1 0 2-.9 2-2V5c0-1.1-.9-2-2-2zM9 17H7v-7h2v7zm4 0h-2V7h2v10zm4 0h-2v-4h2v4z\"/>\n",
              "    </g>\n",
              "</svg>\n",
              "  </button>\n",
              "\n",
              "<style>\n",
              "  .colab-df-quickchart {\n",
              "      --bg-color: #E8F0FE;\n",
              "      --fill-color: #1967D2;\n",
              "      --hover-bg-color: #E2EBFA;\n",
              "      --hover-fill-color: #174EA6;\n",
              "      --disabled-fill-color: #AAA;\n",
              "      --disabled-bg-color: #DDD;\n",
              "  }\n",
              "\n",
              "  [theme=dark] .colab-df-quickchart {\n",
              "      --bg-color: #3B4455;\n",
              "      --fill-color: #D2E3FC;\n",
              "      --hover-bg-color: #434B5C;\n",
              "      --hover-fill-color: #FFFFFF;\n",
              "      --disabled-bg-color: #3B4455;\n",
              "      --disabled-fill-color: #666;\n",
              "  }\n",
              "\n",
              "  .colab-df-quickchart {\n",
              "    background-color: var(--bg-color);\n",
              "    border: none;\n",
              "    border-radius: 50%;\n",
              "    cursor: pointer;\n",
              "    display: none;\n",
              "    fill: var(--fill-color);\n",
              "    height: 32px;\n",
              "    padding: 0;\n",
              "    width: 32px;\n",
              "  }\n",
              "\n",
              "  .colab-df-quickchart:hover {\n",
              "    background-color: var(--hover-bg-color);\n",
              "    box-shadow: 0 1px 2px rgba(60, 64, 67, 0.3), 0 1px 3px 1px rgba(60, 64, 67, 0.15);\n",
              "    fill: var(--button-hover-fill-color);\n",
              "  }\n",
              "\n",
              "  .colab-df-quickchart-complete:disabled,\n",
              "  .colab-df-quickchart-complete:disabled:hover {\n",
              "    background-color: var(--disabled-bg-color);\n",
              "    fill: var(--disabled-fill-color);\n",
              "    box-shadow: none;\n",
              "  }\n",
              "\n",
              "  .colab-df-spinner {\n",
              "    border: 2px solid var(--fill-color);\n",
              "    border-color: transparent;\n",
              "    border-bottom-color: var(--fill-color);\n",
              "    animation:\n",
              "      spin 1s steps(1) infinite;\n",
              "  }\n",
              "\n",
              "  @keyframes spin {\n",
              "    0% {\n",
              "      border-color: transparent;\n",
              "      border-bottom-color: var(--fill-color);\n",
              "      border-left-color: var(--fill-color);\n",
              "    }\n",
              "    20% {\n",
              "      border-color: transparent;\n",
              "      border-left-color: var(--fill-color);\n",
              "      border-top-color: var(--fill-color);\n",
              "    }\n",
              "    30% {\n",
              "      border-color: transparent;\n",
              "      border-left-color: var(--fill-color);\n",
              "      border-top-color: var(--fill-color);\n",
              "      border-right-color: var(--fill-color);\n",
              "    }\n",
              "    40% {\n",
              "      border-color: transparent;\n",
              "      border-right-color: var(--fill-color);\n",
              "      border-top-color: var(--fill-color);\n",
              "    }\n",
              "    60% {\n",
              "      border-color: transparent;\n",
              "      border-right-color: var(--fill-color);\n",
              "    }\n",
              "    80% {\n",
              "      border-color: transparent;\n",
              "      border-right-color: var(--fill-color);\n",
              "      border-bottom-color: var(--fill-color);\n",
              "    }\n",
              "    90% {\n",
              "      border-color: transparent;\n",
              "      border-bottom-color: var(--fill-color);\n",
              "    }\n",
              "  }\n",
              "</style>\n",
              "\n",
              "  <script>\n",
              "    async function quickchart(key) {\n",
              "      const quickchartButtonEl =\n",
              "        document.querySelector('#' + key + ' button');\n",
              "      quickchartButtonEl.disabled = true;  // To prevent multiple clicks.\n",
              "      quickchartButtonEl.classList.add('colab-df-spinner');\n",
              "      try {\n",
              "        const charts = await google.colab.kernel.invokeFunction(\n",
              "            'suggestCharts', [key], {});\n",
              "      } catch (error) {\n",
              "        console.error('Error during call to suggestCharts:', error);\n",
              "      }\n",
              "      quickchartButtonEl.classList.remove('colab-df-spinner');\n",
              "      quickchartButtonEl.classList.add('colab-df-quickchart-complete');\n",
              "    }\n",
              "    (() => {\n",
              "      let quickchartButtonEl =\n",
              "        document.querySelector('#df-376c0563-b5d5-4b3b-88d5-03700573bdb3 button');\n",
              "      quickchartButtonEl.style.display =\n",
              "        google.colab.kernel.accessAllowed ? 'block' : 'none';\n",
              "    })();\n",
              "  </script>\n",
              "</div>\n",
              "\n",
              "  <div id=\"id_8600d558-3e4f-4778-afa2-062ae59d3507\">\n",
              "    <style>\n",
              "      .colab-df-generate {\n",
              "        background-color: #E8F0FE;\n",
              "        border: none;\n",
              "        border-radius: 50%;\n",
              "        cursor: pointer;\n",
              "        display: none;\n",
              "        fill: #1967D2;\n",
              "        height: 32px;\n",
              "        padding: 0 0 0 0;\n",
              "        width: 32px;\n",
              "      }\n",
              "\n",
              "      .colab-df-generate:hover {\n",
              "        background-color: #E2EBFA;\n",
              "        box-shadow: 0px 1px 2px rgba(60, 64, 67, 0.3), 0px 1px 3px 1px rgba(60, 64, 67, 0.15);\n",
              "        fill: #174EA6;\n",
              "      }\n",
              "\n",
              "      [theme=dark] .colab-df-generate {\n",
              "        background-color: #3B4455;\n",
              "        fill: #D2E3FC;\n",
              "      }\n",
              "\n",
              "      [theme=dark] .colab-df-generate:hover {\n",
              "        background-color: #434B5C;\n",
              "        box-shadow: 0px 1px 3px 1px rgba(0, 0, 0, 0.15);\n",
              "        filter: drop-shadow(0px 1px 2px rgba(0, 0, 0, 0.3));\n",
              "        fill: #FFFFFF;\n",
              "      }\n",
              "    </style>\n",
              "    <button class=\"colab-df-generate\" onclick=\"generateWithVariable('combined_data')\"\n",
              "            title=\"Generate code using this dataframe.\"\n",
              "            style=\"display:none;\">\n",
              "\n",
              "  <svg xmlns=\"http://www.w3.org/2000/svg\" height=\"24px\"viewBox=\"0 0 24 24\"\n",
              "       width=\"24px\">\n",
              "    <path d=\"M7,19H8.4L18.45,9,17,7.55,7,17.6ZM5,21V16.75L18.45,3.32a2,2,0,0,1,2.83,0l1.4,1.43a1.91,1.91,0,0,1,.58,1.4,1.91,1.91,0,0,1-.58,1.4L9.25,21ZM18.45,9,17,7.55Zm-12,3A5.31,5.31,0,0,0,4.9,8.1,5.31,5.31,0,0,0,1,6.5,5.31,5.31,0,0,0,4.9,4.9,5.31,5.31,0,0,0,6.5,1,5.31,5.31,0,0,0,8.1,4.9,5.31,5.31,0,0,0,12,6.5,5.46,5.46,0,0,0,6.5,12Z\"/>\n",
              "  </svg>\n",
              "    </button>\n",
              "    <script>\n",
              "      (() => {\n",
              "      const buttonEl =\n",
              "        document.querySelector('#id_8600d558-3e4f-4778-afa2-062ae59d3507 button.colab-df-generate');\n",
              "      buttonEl.style.display =\n",
              "        google.colab.kernel.accessAllowed ? 'block' : 'none';\n",
              "\n",
              "      buttonEl.onclick = () => {\n",
              "        google.colab.notebook.generateWithVariable('combined_data');\n",
              "      }\n",
              "      })();\n",
              "    </script>\n",
              "  </div>\n",
              "\n",
              "    </div>\n",
              "  </div>\n"
            ],
            "application/vnd.google.colaboratory.intrinsic+json": {
              "type": "dataframe",
              "variable_name": "combined_data"
            }
          },
          "metadata": {},
          "execution_count": 160
        }
      ],
      "source": [
        "# Concatenate Train & Test for Data Cleaning\n",
        "combined_data = pd.concat([train, X_test], axis=0)\n",
        "\n",
        "# Calculate the mean for filling missing values\n",
        "mean_values_except_last = combined_data.iloc[:, :-1].mean()\n",
        "\n",
        "# Fill missing values for all columns except the last column\n",
        "combined_data.iloc[:, :-1] = combined_data.iloc[:, :-1].fillna(mean_values_except_last)\n",
        "\n",
        "combined_data"
      ]
    },
    {
      "cell_type": "code",
      "execution_count": null,
      "metadata": {
        "id": "gQvixAX-FTJ3"
      },
      "outputs": [],
      "source": [
        "# Drop discrete columns\n",
        "combined_data.drop(columns=['Name', 'Sector'], inplace=True)"
      ]
    },
    {
      "cell_type": "code",
      "execution_count": null,
      "metadata": {
        "colab": {
          "base_uri": "https://localhost:8080/",
          "height": 541
        },
        "id": "NkmtUBt8FdEb",
        "outputId": "185408a9-cfd4-45a3-d014-c2a35373fcd0"
      },
      "outputs": [
        {
          "output_type": "execute_result",
          "data": {
            "text/plain": [
              "           Revenue  Revenue Growth  Cost of Revenue  Gross Profit  \\\n",
              "0     4.520300e+07        0.051400     0.000000e+00  4.520300e+07   \n",
              "1     3.669000e+06       -0.336200     1.300000e+04  3.656000e+06   \n",
              "2     1.326300e+10        0.953124     7.436000e+09  5.827000e+09   \n",
              "3     5.453600e+09        0.060000     4.881200e+09  5.724000e+08   \n",
              "4     6.307100e+09        0.021400     5.226700e+09  1.080400e+09   \n",
              "...            ...             ...              ...           ...   \n",
              "1483  7.744800e+07       -0.103800     6.378500e+07  1.366300e+07   \n",
              "1484  5.631100e+07       -0.016100     2.964900e+07  2.666200e+07   \n",
              "1485  3.725006e+06        0.476500     1.917890e+06  1.807116e+06   \n",
              "1486  1.040000e+08        0.953124     7.700000e+07  2.700000e+07   \n",
              "1487  1.605670e+08       -0.024600     1.334910e+08  2.707600e+07   \n",
              "\n",
              "      R&D Expenses  SG&A Expense  Operating Expenses  Operating Income  \\\n",
              "0     0.000000e+00  2.754700e+07        3.157800e+07      1.362500e+07   \n",
              "1     5.777900e+07  1.149100e+07        6.927000e+07     -6.561400e+07   \n",
              "2     1.061590e+08  3.005000e+09        3.228000e+09      2.599000e+09   \n",
              "3     0.000000e+00  4.366000e+08        4.706000e+08      1.018000e+08   \n",
              "4     0.000000e+00  7.007000e+08        1.493200e+09     -4.128000e+08   \n",
              "...            ...           ...                 ...               ...   \n",
              "1483  0.000000e+00  1.840800e+07        1.997700e+07     -6.314000e+06   \n",
              "1484  4.303000e+06  1.554500e+07        1.984800e+07      6.814000e+06   \n",
              "1485  1.584210e+06  2.144532e+06        3.728742e+06     -1.921626e+06   \n",
              "1486  1.061590e+08  2.500000e+07        2.700000e+07      0.000000e+00   \n",
              "1487  0.000000e+00  1.926300e+07        1.926300e+07      7.813000e+06   \n",
              "\n",
              "      Interest Expense  Earnings before Tax  ...  \\\n",
              "0         0.000000e+00         1.362500e+07  ...   \n",
              "1         0.000000e+00        -6.455100e+07  ...   \n",
              "2         9.963788e+07         2.212000e+09  ...   \n",
              "3         1.920000e+07         1.260000e+07  ...   \n",
              "4         1.268000e+08        -5.246000e+08  ...   \n",
              "...                ...                  ...  ...   \n",
              "1483      9.240000e+05        -7.222000e+06  ...   \n",
              "1484      3.300000e+04         6.772000e+06  ...   \n",
              "1485      0.000000e+00        -1.913127e+06  ...   \n",
              "1486      1.000000e+06        -2.000000e+06  ...   \n",
              "1487     -6.990000e+05         8.553000e+06  ...   \n",
              "\n",
              "      5Y Dividend per Share Growth (per Share)  \\\n",
              "0                                     0.000000   \n",
              "1                                     0.000000   \n",
              "2                                    -0.012527   \n",
              "3                                     0.032300   \n",
              "4                                     0.000000   \n",
              "...                                        ...   \n",
              "1483                                  0.000000   \n",
              "1484                                  0.422900   \n",
              "1485                                 -1.000000   \n",
              "1486                                 -0.012527   \n",
              "1487                                  0.012200   \n",
              "\n",
              "      3Y Dividend per Share Growth (per Share)  Receivables growth  \\\n",
              "0                                     0.205100            0.000000   \n",
              "1                                     0.000000           -0.692200   \n",
              "2                                     0.005444            9.660352   \n",
              "3                                     0.031300            0.291700   \n",
              "4                                     0.000000           -0.231200   \n",
              "...                                        ...                 ...   \n",
              "1483                                  0.000000           -0.189100   \n",
              "1484                                  0.041300            0.034300   \n",
              "1485                                  0.000000            5.528200   \n",
              "1486                                  0.005444            9.660352   \n",
              "1487                                  0.000000           -0.093400   \n",
              "\n",
              "      Inventory Growth  Asset Growth  Book Value per Share Growth  \\\n",
              "0              0.00000       0.07430                      0.10080   \n",
              "1              0.00000      -0.40830                     -0.54460   \n",
              "2              0.11746       1.08525                      0.22719   \n",
              "3              0.00000       0.67310                      0.37820   \n",
              "4             -0.06100      -0.11710                     -0.11810   \n",
              "...                ...           ...                          ...   \n",
              "1483           0.31110      -0.01280                     -0.32770   \n",
              "1484          -0.08570       0.05950                      0.10640   \n",
              "1485          -0.17370      -0.28080                     -0.38640   \n",
              "1486           0.11746       1.08525                      0.22719   \n",
              "1487           0.20220      -0.07920                      0.07820   \n",
              "\n",
              "      Debt Growth  R&D Expense Growth  SG&A Expenses Growth  Class  \n",
              "0       -0.072900            0.000000              0.009600    0.0  \n",
              "1       -1.000000            1.231100              0.246200    0.0  \n",
              "2        1.457853            0.383984              0.719938    0.0  \n",
              "3        3.391400            0.000000              0.064600    0.0  \n",
              "4       -0.087900            0.000000             -0.059200    1.0  \n",
              "...           ...                 ...                   ...    ...  \n",
              "1483    -0.528500            0.000000             -0.225400    NaN  \n",
              "1484     0.000000           -0.027600              0.096700    NaN  \n",
              "1485     0.000000            0.913300             -0.197000    NaN  \n",
              "1486     1.457853            0.383984              0.719938    NaN  \n",
              "1487     0.000000            0.000000              0.029300    NaN  \n",
              "\n",
              "[4947 rows x 222 columns]"
            ],
            "text/html": [
              "\n",
              "  <div id=\"df-223889f4-b0ad-4e87-a32e-c23d09cead6b\" class=\"colab-df-container\">\n",
              "    <div>\n",
              "<style scoped>\n",
              "    .dataframe tbody tr th:only-of-type {\n",
              "        vertical-align: middle;\n",
              "    }\n",
              "\n",
              "    .dataframe tbody tr th {\n",
              "        vertical-align: top;\n",
              "    }\n",
              "\n",
              "    .dataframe thead th {\n",
              "        text-align: right;\n",
              "    }\n",
              "</style>\n",
              "<table border=\"1\" class=\"dataframe\">\n",
              "  <thead>\n",
              "    <tr style=\"text-align: right;\">\n",
              "      <th></th>\n",
              "      <th>Revenue</th>\n",
              "      <th>Revenue Growth</th>\n",
              "      <th>Cost of Revenue</th>\n",
              "      <th>Gross Profit</th>\n",
              "      <th>R&amp;D Expenses</th>\n",
              "      <th>SG&amp;A Expense</th>\n",
              "      <th>Operating Expenses</th>\n",
              "      <th>Operating Income</th>\n",
              "      <th>Interest Expense</th>\n",
              "      <th>Earnings before Tax</th>\n",
              "      <th>...</th>\n",
              "      <th>5Y Dividend per Share Growth (per Share)</th>\n",
              "      <th>3Y Dividend per Share Growth (per Share)</th>\n",
              "      <th>Receivables growth</th>\n",
              "      <th>Inventory Growth</th>\n",
              "      <th>Asset Growth</th>\n",
              "      <th>Book Value per Share Growth</th>\n",
              "      <th>Debt Growth</th>\n",
              "      <th>R&amp;D Expense Growth</th>\n",
              "      <th>SG&amp;A Expenses Growth</th>\n",
              "      <th>Class</th>\n",
              "    </tr>\n",
              "  </thead>\n",
              "  <tbody>\n",
              "    <tr>\n",
              "      <th>0</th>\n",
              "      <td>4.520300e+07</td>\n",
              "      <td>0.051400</td>\n",
              "      <td>0.000000e+00</td>\n",
              "      <td>4.520300e+07</td>\n",
              "      <td>0.000000e+00</td>\n",
              "      <td>2.754700e+07</td>\n",
              "      <td>3.157800e+07</td>\n",
              "      <td>1.362500e+07</td>\n",
              "      <td>0.000000e+00</td>\n",
              "      <td>1.362500e+07</td>\n",
              "      <td>...</td>\n",
              "      <td>0.000000</td>\n",
              "      <td>0.205100</td>\n",
              "      <td>0.000000</td>\n",
              "      <td>0.00000</td>\n",
              "      <td>0.07430</td>\n",
              "      <td>0.10080</td>\n",
              "      <td>-0.072900</td>\n",
              "      <td>0.000000</td>\n",
              "      <td>0.009600</td>\n",
              "      <td>0.0</td>\n",
              "    </tr>\n",
              "    <tr>\n",
              "      <th>1</th>\n",
              "      <td>3.669000e+06</td>\n",
              "      <td>-0.336200</td>\n",
              "      <td>1.300000e+04</td>\n",
              "      <td>3.656000e+06</td>\n",
              "      <td>5.777900e+07</td>\n",
              "      <td>1.149100e+07</td>\n",
              "      <td>6.927000e+07</td>\n",
              "      <td>-6.561400e+07</td>\n",
              "      <td>0.000000e+00</td>\n",
              "      <td>-6.455100e+07</td>\n",
              "      <td>...</td>\n",
              "      <td>0.000000</td>\n",
              "      <td>0.000000</td>\n",
              "      <td>-0.692200</td>\n",
              "      <td>0.00000</td>\n",
              "      <td>-0.40830</td>\n",
              "      <td>-0.54460</td>\n",
              "      <td>-1.000000</td>\n",
              "      <td>1.231100</td>\n",
              "      <td>0.246200</td>\n",
              "      <td>0.0</td>\n",
              "    </tr>\n",
              "    <tr>\n",
              "      <th>2</th>\n",
              "      <td>1.326300e+10</td>\n",
              "      <td>0.953124</td>\n",
              "      <td>7.436000e+09</td>\n",
              "      <td>5.827000e+09</td>\n",
              "      <td>1.061590e+08</td>\n",
              "      <td>3.005000e+09</td>\n",
              "      <td>3.228000e+09</td>\n",
              "      <td>2.599000e+09</td>\n",
              "      <td>9.963788e+07</td>\n",
              "      <td>2.212000e+09</td>\n",
              "      <td>...</td>\n",
              "      <td>-0.012527</td>\n",
              "      <td>0.005444</td>\n",
              "      <td>9.660352</td>\n",
              "      <td>0.11746</td>\n",
              "      <td>1.08525</td>\n",
              "      <td>0.22719</td>\n",
              "      <td>1.457853</td>\n",
              "      <td>0.383984</td>\n",
              "      <td>0.719938</td>\n",
              "      <td>0.0</td>\n",
              "    </tr>\n",
              "    <tr>\n",
              "      <th>3</th>\n",
              "      <td>5.453600e+09</td>\n",
              "      <td>0.060000</td>\n",
              "      <td>4.881200e+09</td>\n",
              "      <td>5.724000e+08</td>\n",
              "      <td>0.000000e+00</td>\n",
              "      <td>4.366000e+08</td>\n",
              "      <td>4.706000e+08</td>\n",
              "      <td>1.018000e+08</td>\n",
              "      <td>1.920000e+07</td>\n",
              "      <td>1.260000e+07</td>\n",
              "      <td>...</td>\n",
              "      <td>0.032300</td>\n",
              "      <td>0.031300</td>\n",
              "      <td>0.291700</td>\n",
              "      <td>0.00000</td>\n",
              "      <td>0.67310</td>\n",
              "      <td>0.37820</td>\n",
              "      <td>3.391400</td>\n",
              "      <td>0.000000</td>\n",
              "      <td>0.064600</td>\n",
              "      <td>0.0</td>\n",
              "    </tr>\n",
              "    <tr>\n",
              "      <th>4</th>\n",
              "      <td>6.307100e+09</td>\n",
              "      <td>0.021400</td>\n",
              "      <td>5.226700e+09</td>\n",
              "      <td>1.080400e+09</td>\n",
              "      <td>0.000000e+00</td>\n",
              "      <td>7.007000e+08</td>\n",
              "      <td>1.493200e+09</td>\n",
              "      <td>-4.128000e+08</td>\n",
              "      <td>1.268000e+08</td>\n",
              "      <td>-5.246000e+08</td>\n",
              "      <td>...</td>\n",
              "      <td>0.000000</td>\n",
              "      <td>0.000000</td>\n",
              "      <td>-0.231200</td>\n",
              "      <td>-0.06100</td>\n",
              "      <td>-0.11710</td>\n",
              "      <td>-0.11810</td>\n",
              "      <td>-0.087900</td>\n",
              "      <td>0.000000</td>\n",
              "      <td>-0.059200</td>\n",
              "      <td>1.0</td>\n",
              "    </tr>\n",
              "    <tr>\n",
              "      <th>...</th>\n",
              "      <td>...</td>\n",
              "      <td>...</td>\n",
              "      <td>...</td>\n",
              "      <td>...</td>\n",
              "      <td>...</td>\n",
              "      <td>...</td>\n",
              "      <td>...</td>\n",
              "      <td>...</td>\n",
              "      <td>...</td>\n",
              "      <td>...</td>\n",
              "      <td>...</td>\n",
              "      <td>...</td>\n",
              "      <td>...</td>\n",
              "      <td>...</td>\n",
              "      <td>...</td>\n",
              "      <td>...</td>\n",
              "      <td>...</td>\n",
              "      <td>...</td>\n",
              "      <td>...</td>\n",
              "      <td>...</td>\n",
              "      <td>...</td>\n",
              "    </tr>\n",
              "    <tr>\n",
              "      <th>1483</th>\n",
              "      <td>7.744800e+07</td>\n",
              "      <td>-0.103800</td>\n",
              "      <td>6.378500e+07</td>\n",
              "      <td>1.366300e+07</td>\n",
              "      <td>0.000000e+00</td>\n",
              "      <td>1.840800e+07</td>\n",
              "      <td>1.997700e+07</td>\n",
              "      <td>-6.314000e+06</td>\n",
              "      <td>9.240000e+05</td>\n",
              "      <td>-7.222000e+06</td>\n",
              "      <td>...</td>\n",
              "      <td>0.000000</td>\n",
              "      <td>0.000000</td>\n",
              "      <td>-0.189100</td>\n",
              "      <td>0.31110</td>\n",
              "      <td>-0.01280</td>\n",
              "      <td>-0.32770</td>\n",
              "      <td>-0.528500</td>\n",
              "      <td>0.000000</td>\n",
              "      <td>-0.225400</td>\n",
              "      <td>NaN</td>\n",
              "    </tr>\n",
              "    <tr>\n",
              "      <th>1484</th>\n",
              "      <td>5.631100e+07</td>\n",
              "      <td>-0.016100</td>\n",
              "      <td>2.964900e+07</td>\n",
              "      <td>2.666200e+07</td>\n",
              "      <td>4.303000e+06</td>\n",
              "      <td>1.554500e+07</td>\n",
              "      <td>1.984800e+07</td>\n",
              "      <td>6.814000e+06</td>\n",
              "      <td>3.300000e+04</td>\n",
              "      <td>6.772000e+06</td>\n",
              "      <td>...</td>\n",
              "      <td>0.422900</td>\n",
              "      <td>0.041300</td>\n",
              "      <td>0.034300</td>\n",
              "      <td>-0.08570</td>\n",
              "      <td>0.05950</td>\n",
              "      <td>0.10640</td>\n",
              "      <td>0.000000</td>\n",
              "      <td>-0.027600</td>\n",
              "      <td>0.096700</td>\n",
              "      <td>NaN</td>\n",
              "    </tr>\n",
              "    <tr>\n",
              "      <th>1485</th>\n",
              "      <td>3.725006e+06</td>\n",
              "      <td>0.476500</td>\n",
              "      <td>1.917890e+06</td>\n",
              "      <td>1.807116e+06</td>\n",
              "      <td>1.584210e+06</td>\n",
              "      <td>2.144532e+06</td>\n",
              "      <td>3.728742e+06</td>\n",
              "      <td>-1.921626e+06</td>\n",
              "      <td>0.000000e+00</td>\n",
              "      <td>-1.913127e+06</td>\n",
              "      <td>...</td>\n",
              "      <td>-1.000000</td>\n",
              "      <td>0.000000</td>\n",
              "      <td>5.528200</td>\n",
              "      <td>-0.17370</td>\n",
              "      <td>-0.28080</td>\n",
              "      <td>-0.38640</td>\n",
              "      <td>0.000000</td>\n",
              "      <td>0.913300</td>\n",
              "      <td>-0.197000</td>\n",
              "      <td>NaN</td>\n",
              "    </tr>\n",
              "    <tr>\n",
              "      <th>1486</th>\n",
              "      <td>1.040000e+08</td>\n",
              "      <td>0.953124</td>\n",
              "      <td>7.700000e+07</td>\n",
              "      <td>2.700000e+07</td>\n",
              "      <td>1.061590e+08</td>\n",
              "      <td>2.500000e+07</td>\n",
              "      <td>2.700000e+07</td>\n",
              "      <td>0.000000e+00</td>\n",
              "      <td>1.000000e+06</td>\n",
              "      <td>-2.000000e+06</td>\n",
              "      <td>...</td>\n",
              "      <td>-0.012527</td>\n",
              "      <td>0.005444</td>\n",
              "      <td>9.660352</td>\n",
              "      <td>0.11746</td>\n",
              "      <td>1.08525</td>\n",
              "      <td>0.22719</td>\n",
              "      <td>1.457853</td>\n",
              "      <td>0.383984</td>\n",
              "      <td>0.719938</td>\n",
              "      <td>NaN</td>\n",
              "    </tr>\n",
              "    <tr>\n",
              "      <th>1487</th>\n",
              "      <td>1.605670e+08</td>\n",
              "      <td>-0.024600</td>\n",
              "      <td>1.334910e+08</td>\n",
              "      <td>2.707600e+07</td>\n",
              "      <td>0.000000e+00</td>\n",
              "      <td>1.926300e+07</td>\n",
              "      <td>1.926300e+07</td>\n",
              "      <td>7.813000e+06</td>\n",
              "      <td>-6.990000e+05</td>\n",
              "      <td>8.553000e+06</td>\n",
              "      <td>...</td>\n",
              "      <td>0.012200</td>\n",
              "      <td>0.000000</td>\n",
              "      <td>-0.093400</td>\n",
              "      <td>0.20220</td>\n",
              "      <td>-0.07920</td>\n",
              "      <td>0.07820</td>\n",
              "      <td>0.000000</td>\n",
              "      <td>0.000000</td>\n",
              "      <td>0.029300</td>\n",
              "      <td>NaN</td>\n",
              "    </tr>\n",
              "  </tbody>\n",
              "</table>\n",
              "<p>4947 rows × 222 columns</p>\n",
              "</div>\n",
              "    <div class=\"colab-df-buttons\">\n",
              "\n",
              "  <div class=\"colab-df-container\">\n",
              "    <button class=\"colab-df-convert\" onclick=\"convertToInteractive('df-223889f4-b0ad-4e87-a32e-c23d09cead6b')\"\n",
              "            title=\"Convert this dataframe to an interactive table.\"\n",
              "            style=\"display:none;\">\n",
              "\n",
              "  <svg xmlns=\"http://www.w3.org/2000/svg\" height=\"24px\" viewBox=\"0 -960 960 960\">\n",
              "    <path d=\"M120-120v-720h720v720H120Zm60-500h600v-160H180v160Zm220 220h160v-160H400v160Zm0 220h160v-160H400v160ZM180-400h160v-160H180v160Zm440 0h160v-160H620v160ZM180-180h160v-160H180v160Zm440 0h160v-160H620v160Z\"/>\n",
              "  </svg>\n",
              "    </button>\n",
              "\n",
              "  <style>\n",
              "    .colab-df-container {\n",
              "      display:flex;\n",
              "      gap: 12px;\n",
              "    }\n",
              "\n",
              "    .colab-df-convert {\n",
              "      background-color: #E8F0FE;\n",
              "      border: none;\n",
              "      border-radius: 50%;\n",
              "      cursor: pointer;\n",
              "      display: none;\n",
              "      fill: #1967D2;\n",
              "      height: 32px;\n",
              "      padding: 0 0 0 0;\n",
              "      width: 32px;\n",
              "    }\n",
              "\n",
              "    .colab-df-convert:hover {\n",
              "      background-color: #E2EBFA;\n",
              "      box-shadow: 0px 1px 2px rgba(60, 64, 67, 0.3), 0px 1px 3px 1px rgba(60, 64, 67, 0.15);\n",
              "      fill: #174EA6;\n",
              "    }\n",
              "\n",
              "    .colab-df-buttons div {\n",
              "      margin-bottom: 4px;\n",
              "    }\n",
              "\n",
              "    [theme=dark] .colab-df-convert {\n",
              "      background-color: #3B4455;\n",
              "      fill: #D2E3FC;\n",
              "    }\n",
              "\n",
              "    [theme=dark] .colab-df-convert:hover {\n",
              "      background-color: #434B5C;\n",
              "      box-shadow: 0px 1px 3px 1px rgba(0, 0, 0, 0.15);\n",
              "      filter: drop-shadow(0px 1px 2px rgba(0, 0, 0, 0.3));\n",
              "      fill: #FFFFFF;\n",
              "    }\n",
              "  </style>\n",
              "\n",
              "    <script>\n",
              "      const buttonEl =\n",
              "        document.querySelector('#df-223889f4-b0ad-4e87-a32e-c23d09cead6b button.colab-df-convert');\n",
              "      buttonEl.style.display =\n",
              "        google.colab.kernel.accessAllowed ? 'block' : 'none';\n",
              "\n",
              "      async function convertToInteractive(key) {\n",
              "        const element = document.querySelector('#df-223889f4-b0ad-4e87-a32e-c23d09cead6b');\n",
              "        const dataTable =\n",
              "          await google.colab.kernel.invokeFunction('convertToInteractive',\n",
              "                                                    [key], {});\n",
              "        if (!dataTable) return;\n",
              "\n",
              "        const docLinkHtml = 'Like what you see? Visit the ' +\n",
              "          '<a target=\"_blank\" href=https://colab.research.google.com/notebooks/data_table.ipynb>data table notebook</a>'\n",
              "          + ' to learn more about interactive tables.';\n",
              "        element.innerHTML = '';\n",
              "        dataTable['output_type'] = 'display_data';\n",
              "        await google.colab.output.renderOutput(dataTable, element);\n",
              "        const docLink = document.createElement('div');\n",
              "        docLink.innerHTML = docLinkHtml;\n",
              "        element.appendChild(docLink);\n",
              "      }\n",
              "    </script>\n",
              "  </div>\n",
              "\n",
              "\n",
              "<div id=\"df-141fbcef-ae38-4f5d-9931-1f4e35516381\">\n",
              "  <button class=\"colab-df-quickchart\" onclick=\"quickchart('df-141fbcef-ae38-4f5d-9931-1f4e35516381')\"\n",
              "            title=\"Suggest charts\"\n",
              "            style=\"display:none;\">\n",
              "\n",
              "<svg xmlns=\"http://www.w3.org/2000/svg\" height=\"24px\"viewBox=\"0 0 24 24\"\n",
              "     width=\"24px\">\n",
              "    <g>\n",
              "        <path d=\"M19 3H5c-1.1 0-2 .9-2 2v14c0 1.1.9 2 2 2h14c1.1 0 2-.9 2-2V5c0-1.1-.9-2-2-2zM9 17H7v-7h2v7zm4 0h-2V7h2v10zm4 0h-2v-4h2v4z\"/>\n",
              "    </g>\n",
              "</svg>\n",
              "  </button>\n",
              "\n",
              "<style>\n",
              "  .colab-df-quickchart {\n",
              "      --bg-color: #E8F0FE;\n",
              "      --fill-color: #1967D2;\n",
              "      --hover-bg-color: #E2EBFA;\n",
              "      --hover-fill-color: #174EA6;\n",
              "      --disabled-fill-color: #AAA;\n",
              "      --disabled-bg-color: #DDD;\n",
              "  }\n",
              "\n",
              "  [theme=dark] .colab-df-quickchart {\n",
              "      --bg-color: #3B4455;\n",
              "      --fill-color: #D2E3FC;\n",
              "      --hover-bg-color: #434B5C;\n",
              "      --hover-fill-color: #FFFFFF;\n",
              "      --disabled-bg-color: #3B4455;\n",
              "      --disabled-fill-color: #666;\n",
              "  }\n",
              "\n",
              "  .colab-df-quickchart {\n",
              "    background-color: var(--bg-color);\n",
              "    border: none;\n",
              "    border-radius: 50%;\n",
              "    cursor: pointer;\n",
              "    display: none;\n",
              "    fill: var(--fill-color);\n",
              "    height: 32px;\n",
              "    padding: 0;\n",
              "    width: 32px;\n",
              "  }\n",
              "\n",
              "  .colab-df-quickchart:hover {\n",
              "    background-color: var(--hover-bg-color);\n",
              "    box-shadow: 0 1px 2px rgba(60, 64, 67, 0.3), 0 1px 3px 1px rgba(60, 64, 67, 0.15);\n",
              "    fill: var(--button-hover-fill-color);\n",
              "  }\n",
              "\n",
              "  .colab-df-quickchart-complete:disabled,\n",
              "  .colab-df-quickchart-complete:disabled:hover {\n",
              "    background-color: var(--disabled-bg-color);\n",
              "    fill: var(--disabled-fill-color);\n",
              "    box-shadow: none;\n",
              "  }\n",
              "\n",
              "  .colab-df-spinner {\n",
              "    border: 2px solid var(--fill-color);\n",
              "    border-color: transparent;\n",
              "    border-bottom-color: var(--fill-color);\n",
              "    animation:\n",
              "      spin 1s steps(1) infinite;\n",
              "  }\n",
              "\n",
              "  @keyframes spin {\n",
              "    0% {\n",
              "      border-color: transparent;\n",
              "      border-bottom-color: var(--fill-color);\n",
              "      border-left-color: var(--fill-color);\n",
              "    }\n",
              "    20% {\n",
              "      border-color: transparent;\n",
              "      border-left-color: var(--fill-color);\n",
              "      border-top-color: var(--fill-color);\n",
              "    }\n",
              "    30% {\n",
              "      border-color: transparent;\n",
              "      border-left-color: var(--fill-color);\n",
              "      border-top-color: var(--fill-color);\n",
              "      border-right-color: var(--fill-color);\n",
              "    }\n",
              "    40% {\n",
              "      border-color: transparent;\n",
              "      border-right-color: var(--fill-color);\n",
              "      border-top-color: var(--fill-color);\n",
              "    }\n",
              "    60% {\n",
              "      border-color: transparent;\n",
              "      border-right-color: var(--fill-color);\n",
              "    }\n",
              "    80% {\n",
              "      border-color: transparent;\n",
              "      border-right-color: var(--fill-color);\n",
              "      border-bottom-color: var(--fill-color);\n",
              "    }\n",
              "    90% {\n",
              "      border-color: transparent;\n",
              "      border-bottom-color: var(--fill-color);\n",
              "    }\n",
              "  }\n",
              "</style>\n",
              "\n",
              "  <script>\n",
              "    async function quickchart(key) {\n",
              "      const quickchartButtonEl =\n",
              "        document.querySelector('#' + key + ' button');\n",
              "      quickchartButtonEl.disabled = true;  // To prevent multiple clicks.\n",
              "      quickchartButtonEl.classList.add('colab-df-spinner');\n",
              "      try {\n",
              "        const charts = await google.colab.kernel.invokeFunction(\n",
              "            'suggestCharts', [key], {});\n",
              "      } catch (error) {\n",
              "        console.error('Error during call to suggestCharts:', error);\n",
              "      }\n",
              "      quickchartButtonEl.classList.remove('colab-df-spinner');\n",
              "      quickchartButtonEl.classList.add('colab-df-quickchart-complete');\n",
              "    }\n",
              "    (() => {\n",
              "      let quickchartButtonEl =\n",
              "        document.querySelector('#df-141fbcef-ae38-4f5d-9931-1f4e35516381 button');\n",
              "      quickchartButtonEl.style.display =\n",
              "        google.colab.kernel.accessAllowed ? 'block' : 'none';\n",
              "    })();\n",
              "  </script>\n",
              "</div>\n",
              "\n",
              "  <div id=\"id_d0e7139c-e860-4cc5-9158-5974fc5446ff\">\n",
              "    <style>\n",
              "      .colab-df-generate {\n",
              "        background-color: #E8F0FE;\n",
              "        border: none;\n",
              "        border-radius: 50%;\n",
              "        cursor: pointer;\n",
              "        display: none;\n",
              "        fill: #1967D2;\n",
              "        height: 32px;\n",
              "        padding: 0 0 0 0;\n",
              "        width: 32px;\n",
              "      }\n",
              "\n",
              "      .colab-df-generate:hover {\n",
              "        background-color: #E2EBFA;\n",
              "        box-shadow: 0px 1px 2px rgba(60, 64, 67, 0.3), 0px 1px 3px 1px rgba(60, 64, 67, 0.15);\n",
              "        fill: #174EA6;\n",
              "      }\n",
              "\n",
              "      [theme=dark] .colab-df-generate {\n",
              "        background-color: #3B4455;\n",
              "        fill: #D2E3FC;\n",
              "      }\n",
              "\n",
              "      [theme=dark] .colab-df-generate:hover {\n",
              "        background-color: #434B5C;\n",
              "        box-shadow: 0px 1px 3px 1px rgba(0, 0, 0, 0.15);\n",
              "        filter: drop-shadow(0px 1px 2px rgba(0, 0, 0, 0.3));\n",
              "        fill: #FFFFFF;\n",
              "      }\n",
              "    </style>\n",
              "    <button class=\"colab-df-generate\" onclick=\"generateWithVariable('combined_data')\"\n",
              "            title=\"Generate code using this dataframe.\"\n",
              "            style=\"display:none;\">\n",
              "\n",
              "  <svg xmlns=\"http://www.w3.org/2000/svg\" height=\"24px\"viewBox=\"0 0 24 24\"\n",
              "       width=\"24px\">\n",
              "    <path d=\"M7,19H8.4L18.45,9,17,7.55,7,17.6ZM5,21V16.75L18.45,3.32a2,2,0,0,1,2.83,0l1.4,1.43a1.91,1.91,0,0,1,.58,1.4,1.91,1.91,0,0,1-.58,1.4L9.25,21ZM18.45,9,17,7.55Zm-12,3A5.31,5.31,0,0,0,4.9,8.1,5.31,5.31,0,0,0,1,6.5,5.31,5.31,0,0,0,4.9,4.9,5.31,5.31,0,0,0,6.5,1,5.31,5.31,0,0,0,8.1,4.9,5.31,5.31,0,0,0,12,6.5,5.46,5.46,0,0,0,6.5,12Z\"/>\n",
              "  </svg>\n",
              "    </button>\n",
              "    <script>\n",
              "      (() => {\n",
              "      const buttonEl =\n",
              "        document.querySelector('#id_d0e7139c-e860-4cc5-9158-5974fc5446ff button.colab-df-generate');\n",
              "      buttonEl.style.display =\n",
              "        google.colab.kernel.accessAllowed ? 'block' : 'none';\n",
              "\n",
              "      buttonEl.onclick = () => {\n",
              "        google.colab.notebook.generateWithVariable('combined_data');\n",
              "      }\n",
              "      })();\n",
              "    </script>\n",
              "  </div>\n",
              "\n",
              "    </div>\n",
              "  </div>\n"
            ],
            "application/vnd.google.colaboratory.intrinsic+json": {
              "type": "dataframe",
              "variable_name": "combined_data"
            }
          },
          "metadata": {},
          "execution_count": 162
        }
      ],
      "source": [
        "combined_data"
      ]
    },
    {
      "cell_type": "code",
      "execution_count": null,
      "metadata": {
        "colab": {
          "base_uri": "https://localhost:8080/"
        },
        "id": "mVigYvQZGOnT",
        "outputId": "6d563c2b-8b07-4d2e-ac9d-df72795cd244"
      },
      "outputs": [
        {
          "output_type": "stream",
          "name": "stdout",
          "text": [
            "Train set shape: (3459, 222)\n",
            "Test set shape: (1488, 222)\n"
          ]
        }
      ],
      "source": [
        "# Now split the train and test again into original form\n",
        "\n",
        "# Check the lengths of train and X_test\n",
        "train_length = len(train)\n",
        "X_test_length = len(X_test)\n",
        "\n",
        "# Split the combined data back into train and test sets\n",
        "train = combined_data.iloc[:train_length]\n",
        "X_test = combined_data.iloc[train_length:train_length + X_test_length]\n",
        "\n",
        "print(\"Train set shape:\", train.shape)\n",
        "print(\"Test set shape:\", X_test.shape)"
      ]
    },
    {
      "cell_type": "code",
      "execution_count": null,
      "metadata": {
        "colab": {
          "base_uri": "https://localhost:8080/"
        },
        "id": "ufSnwOYXNqpk",
        "outputId": "a33f402a-6ec9-4bb2-a0c5-cd7b5c8ae886"
      },
      "outputs": [
        {
          "output_type": "execute_result",
          "data": {
            "text/plain": [
              "0.0    2498\n",
              "1.0     961\n",
              "Name: Class, dtype: int64"
            ]
          },
          "metadata": {},
          "execution_count": 164
        }
      ],
      "source": [
        "# Data Imbalance Issue\n",
        "train['Class'].value_counts()"
      ]
    },
    {
      "cell_type": "code",
      "execution_count": null,
      "metadata": {
        "id": "71tmpVlZOehL"
      },
      "outputs": [],
      "source": [
        "# Separate data into two classes\n",
        "class_0 = train[train['Class'] == 0]\n",
        "class_1 = train[train['Class'] == 1]\n",
        "\n",
        "# Undersample class 0 to match the size of class 1\n",
        "class_0_sampled = class_0.sample(n=len(class_1), random_state=42)\n",
        "\n",
        "# Concatenate the sampled class 0 and class 1\n",
        "train = pd.concat([class_0_sampled, class_1])"
      ]
    },
    {
      "cell_type": "code",
      "execution_count": null,
      "metadata": {
        "colab": {
          "base_uri": "https://localhost:8080/"
        },
        "id": "HgoX5jAKOtcb",
        "outputId": "f26c1add-96f7-4010-8cf1-673c871196d2"
      },
      "outputs": [
        {
          "output_type": "execute_result",
          "data": {
            "text/plain": [
              "0.0    961\n",
              "1.0    961\n",
              "Name: Class, dtype: int64"
            ]
          },
          "metadata": {},
          "execution_count": 166
        }
      ],
      "source": [
        "train['Class'].value_counts()"
      ]
    },
    {
      "cell_type": "code",
      "execution_count": null,
      "metadata": {
        "colab": {
          "base_uri": "https://localhost:8080/"
        },
        "id": "aJr-61wPAkkt",
        "outputId": "5b3e68d5-0eb3-45aa-fdaf-e3e9bc934195"
      },
      "outputs": [
        {
          "output_type": "stream",
          "name": "stdout",
          "text": [
            "Number of duplicate rows: 160\n"
          ]
        }
      ],
      "source": [
        "# Check for duplicate rows\n",
        "duplicate_rows = train[train.duplicated()]\n",
        "print(\"Number of duplicate rows:\", len(duplicate_rows))"
      ]
    },
    {
      "cell_type": "code",
      "execution_count": null,
      "metadata": {
        "colab": {
          "base_uri": "https://localhost:8080/"
        },
        "id": "yOiPQ5ifCcNG",
        "outputId": "fbbb9c44-dd57-427d-a3eb-3f621a3abafd"
      },
      "outputs": [
        {
          "output_type": "stream",
          "name": "stdout",
          "text": [
            "Index([], dtype='object')\n"
          ]
        }
      ],
      "source": [
        "# Checking which column is category\n",
        "category_columns = train.select_dtypes(include=['category']).columns\n",
        "print(category_columns)"
      ]
    },
    {
      "cell_type": "code",
      "execution_count": null,
      "metadata": {
        "id": "ZDRn-6i_V0wB"
      },
      "outputs": [],
      "source": [
        "# Splitting train into X_train & y_train\n",
        "X_train = train.iloc[:, :-1] # Dropped Class here thats why there is only Class in X_test\n",
        "y_train = train.iloc[:, -1] # keeping only the target column"
      ]
    },
    {
      "cell_type": "code",
      "source": [
        "X_test.drop(columns=['Class'], inplace=True)"
      ],
      "metadata": {
        "id": "1hPOIjtPjz9_"
      },
      "execution_count": null,
      "outputs": []
    },
    {
      "cell_type": "markdown",
      "metadata": {
        "id": "Qoky4_cmNl_g"
      },
      "source": [
        "# Split"
      ]
    },
    {
      "cell_type": "code",
      "execution_count": null,
      "metadata": {
        "id": "rbwiw5XJtmWn"
      },
      "outputs": [],
      "source": [
        "# Train, Validation, Test\n",
        "X_new_train, X_val, y_new_train, y_val = train_test_split(X_train, y_train, test_size=0.2, random_state=42) # Not sure if we have to use this, so it will depend"
      ]
    },
    {
      "cell_type": "markdown",
      "metadata": {
        "id": "yo6syuiJqknk"
      },
      "source": [
        "# Logistic Regression"
      ]
    },
    {
      "cell_type": "code",
      "execution_count": null,
      "metadata": {
        "id": "cDouYt2oqm0b"
      },
      "outputs": [],
      "source": [
        "from sklearn.linear_model import LogisticRegression\n",
        "\n",
        "log = LogisticRegression()\n",
        "log.fit(X_train, y_train)\n",
        "y_pred = log.predict(X_test)\n",
        "\n",
        "samples['Class'] = y_pred\n",
        "samples_subset = samples[['Name', 'Class']]\n",
        "samples_subset.to_csv('samplesLogReg.csv', index=False)\n",
        "# Score: 0.53945"
      ]
    },
    {
      "cell_type": "code",
      "execution_count": null,
      "metadata": {
        "colab": {
          "base_uri": "https://localhost:8080/"
        },
        "id": "o3QJn6gdqnJS",
        "outputId": "831e9723-b3e4-4687-b706-51a426ed1284"
      },
      "outputs": [
        {
          "output_type": "execute_result",
          "data": {
            "text/plain": [
              "0.5"
            ]
          },
          "metadata": {},
          "execution_count": 173
        }
      ],
      "source": [
        "# Validation\n",
        "log_val = LogisticRegression()\n",
        "log_val.fit(X_new_train, y_new_train)\n",
        "y_pred = log_val.predict(X_val)\n",
        "\n",
        "#from sklearn.metrics import confusion_matrix\n",
        "#confusion_matrix = confusion_matrix(y_val, y_pred)\n",
        "#confusion_matrix\n",
        "\n",
        "#clf.score(X_val, y_val)\n",
        "#print(classification_report(y_val, y_pred))\n",
        "\n",
        "roc_auc_score(y_val, y_pred)"
      ]
    },
    {
      "cell_type": "markdown",
      "metadata": {
        "id": "Nl6eIhYzqnUM"
      },
      "source": [
        "# Naive Bayes"
      ]
    },
    {
      "cell_type": "code",
      "execution_count": null,
      "metadata": {
        "id": "qAOEjDUcqo6z"
      },
      "outputs": [],
      "source": [
        "from sklearn.naive_bayes import GaussianNB\n",
        "\n",
        "nb = GaussianNB()\n",
        "nb.fit(X_train, y_train)\n",
        "y_pred = nb.predict(X_test)\n",
        "\n",
        "\n",
        "samples['Class'] = y_pred\n",
        "samples_subset = samples[['Name', 'Class']]\n",
        "samples_subset.to_csv('samplesBayesian.csv', index=False)\n",
        "# Score: 0.51995"
      ]
    },
    {
      "cell_type": "code",
      "execution_count": null,
      "metadata": {
        "colab": {
          "base_uri": "https://localhost:8080/"
        },
        "id": "PwUoI3h8qo94",
        "outputId": "edca4c2b-ae49-4649-99a3-80d1cdac8705"
      },
      "outputs": [
        {
          "output_type": "execute_result",
          "data": {
            "text/plain": [
              "0.5187250243006803"
            ]
          },
          "metadata": {},
          "execution_count": 175
        }
      ],
      "source": [
        "# Validation\n",
        "from sklearn.naive_bayes import GaussianNB\n",
        "\n",
        "nb_val = GaussianNB()\n",
        "nb_val.fit(X_new_train, y_new_train)\n",
        "y_pred = nb_val.predict(X_val)\n",
        "\n",
        "roc_auc_score(y_val, y_pred)"
      ]
    },
    {
      "cell_type": "markdown",
      "metadata": {
        "id": "iQnqzt2mqpIl"
      },
      "source": [
        "# KNN"
      ]
    },
    {
      "cell_type": "code",
      "execution_count": null,
      "metadata": {
        "colab": {
          "base_uri": "https://localhost:8080/"
        },
        "id": "dRdqKYQMqqAO",
        "outputId": "1293feb0-8fcf-4b29-9fe9-40b9942eed38"
      },
      "outputs": [
        {
          "output_type": "stream",
          "name": "stdout",
          "text": [
            "{'n_neighbors': 13}\n"
          ]
        }
      ],
      "source": [
        "from sklearn.neighbors import KNeighborsClassifier\n",
        "\n",
        "# Finding the best parameter\n",
        "knn = KNeighborsClassifier()\n",
        "\n",
        "#create a dictionary of all values we want to test for n_neighbors\n",
        "params_knn = {'n_neighbors': np.arange(1, 25)}\n",
        "\n",
        "#use gridsearch to test all values for n_neighbors\n",
        "knn_gs = GridSearchCV(knn, params_knn, cv=5)\n",
        "\n",
        "#fit model to training data\n",
        "knn_gs.fit(X_train, y_train)\n",
        "\n",
        "#save best model\n",
        "knn_best = knn_gs.best_estimator_\n",
        "\n",
        "#check best n_neigbors value\n",
        "print(knn_gs.best_params_)\n",
        "\n",
        "\n",
        "knn = KNeighborsClassifier(n_neighbors = 22)\n",
        "knn.fit(X_train, y_train)\n",
        "y_pred = knn.predict(X_test)\n",
        "\n",
        "# set k from 1 to 3\n",
        "#or k in range (1,4):\n",
        " # knn = KNeighborsClassifier(n_neighbors = k)\n",
        "  #knn.fit(X_train, y_train)\n",
        "  #y_pred = knn.predict(X_test)\n",
        "\n",
        "\n",
        "samples['Class'] = y_pred\n",
        "samples_subset = samples[['Name', 'Class']]\n",
        "samples_subset.to_csv('samplesKNN.csv', index=False)\n",
        "# Score:  0.61734 (neightbor 20가 13보다 높음. 13 = 0.60464)\n",
        "# neighbor = 22  =  0.63254"
      ]
    },
    {
      "cell_type": "code",
      "execution_count": null,
      "metadata": {
        "colab": {
          "base_uri": "https://localhost:8080/"
        },
        "id": "mBxAg3nYxWQZ",
        "outputId": "8b23b098-dd76-485c-8cdb-34e6620017fd"
      },
      "outputs": [
        {
          "output_type": "stream",
          "name": "stdout",
          "text": [
            "{'n_neighbors': 3}\n"
          ]
        },
        {
          "output_type": "execute_result",
          "data": {
            "text/plain": [
              "0.5730775461712928"
            ]
          },
          "metadata": {},
          "execution_count": 177
        }
      ],
      "source": [
        "# Validation\n",
        "\n",
        "# Finding the best parameter\n",
        "knn_val = KNeighborsClassifier()\n",
        "\n",
        "#create a dictionary of all values we want to test for n_neighbors\n",
        "params_knn = {'n_neighbors': np.arange(1, 25)}\n",
        "\n",
        "#use gridsearch to test all values for n_neighbors\n",
        "knn_gs = GridSearchCV(knn_val, params_knn, cv=5)\n",
        "\n",
        "#fit model to training data\n",
        "knn_gs.fit(X_new_train, y_new_train)\n",
        "\n",
        "#save best model\n",
        "knn_best = knn_gs.best_estimator_\n",
        "\n",
        "#check best n_neigbors value\n",
        "print(knn_gs.best_params_)\n",
        "\n",
        "from sklearn.neighbors import KNeighborsClassifier\n",
        "\n",
        "knn_val = KNeighborsClassifier(n_neighbors = 20)\n",
        "knn_val.fit(X_new_train, y_new_train)\n",
        "y_pred = knn_val.predict(X_val)\n",
        "roc_auc_score(y_val, y_pred)"
      ]
    },
    {
      "cell_type": "code",
      "execution_count": null,
      "metadata": {
        "id": "3oyI5ssWqqCr"
      },
      "outputs": [],
      "source": [
        "# Cross Validation\n",
        "from sklearn.model_selection import cross_val_predict\n",
        "from sklearn.linear_model import LinearRegression\n",
        "from sklearn.model_selection import KFold\n",
        "import pandas as pd\n",
        "\n",
        "# Create your model\n",
        "model = LinearRegression()\n",
        "\n",
        "# Define the number of splits for cross-validation\n",
        "num_splits = 5\n",
        "\n",
        "# Create a KFold object to define how you want to split your data\n",
        "kf = KFold(n_splits=num_splits, shuffle=True, random_state=42)\n",
        "\n",
        "# Perform cross-validation\n",
        "y_pred_cv = cross_val_predict(model, X_train, y_train, cv=kf)\n",
        "\n",
        "if len(y_pred_cv) == len(samples):\n",
        "    samples['Class'] = y_pred_cv\n",
        "    samples_subset = samples[['Name', 'Class']]\n",
        "    samples_subset.to_csv('crossVal.csv', index=False)\n",
        "#Score: 0.46832"
      ]
    },
    {
      "cell_type": "markdown",
      "metadata": {
        "id": "5HVTUsw5qqIZ"
      },
      "source": [
        "# SVM"
      ]
    },
    {
      "cell_type": "code",
      "execution_count": null,
      "metadata": {
        "colab": {
          "base_uri": "https://localhost:8080/"
        },
        "id": "EcPLs5z6qq3N",
        "outputId": "3574f9f4-f292-4360-a43f-006a94e5f3ab"
      },
      "outputs": [
        {
          "output_type": "stream",
          "name": "stdout",
          "text": [
            "CPU times: user 53.8 s, sys: 29.5 s, total: 1min 23s\n",
            "Wall time: 1min 2s\n",
            "{'svc__C': 50, 'svc__gamma': 0.001}\n"
          ]
        }
      ],
      "source": [
        "from sklearn.svm import SVC\n",
        "from sklearn.decomposition import PCA\n",
        "from sklearn.pipeline import make_pipeline\n",
        "\n",
        "pca = PCA(n_components=150, whiten=True, random_state=42)\n",
        "svc = SVC(kernel='rbf', class_weight='balanced')\n",
        "model = make_pipeline(pca, svc)\n",
        "\n",
        "param_grid = {'svc__C': [1, 5, 10, 50],\n",
        "              'svc__gamma': [0.0001, 0.0005, 0.001, 0.005]}\n",
        "grid = GridSearchCV(model, param_grid)\n",
        "\n",
        "%time grid.fit(X_train, y_train)\n",
        "print(grid.best_params_)\n",
        "\n",
        "svm = grid.best_estimator_\n",
        "y_pred = svm.predict(X_test)\n",
        "\n",
        "samples['Class'] = y_pred\n",
        "samples_subset = samples[['Name', 'Class']]\n",
        "samples_subset.to_csv('samplesSVM.csv', index=False)\n",
        "# Score: 0.59172"
      ]
    },
    {
      "cell_type": "code",
      "execution_count": null,
      "metadata": {
        "colab": {
          "base_uri": "https://localhost:8080/"
        },
        "id": "NzdT8WnFqq5j",
        "outputId": "7761ec56-da40-4a87-9e28-40c4009958f6"
      },
      "outputs": [
        {
          "output_type": "stream",
          "name": "stdout",
          "text": [
            "CPU times: user 42.4 s, sys: 28.3 s, total: 1min 10s\n",
            "Wall time: 46.1 s\n",
            "{'svc__C': 10, 'svc__gamma': 0.005}\n"
          ]
        },
        {
          "output_type": "execute_result",
          "data": {
            "text/plain": [
              "0.6078680203045685"
            ]
          },
          "metadata": {},
          "execution_count": 180
        }
      ],
      "source": [
        "# Validation\n",
        "from sklearn.svm import SVC\n",
        "from sklearn.decomposition import PCA\n",
        "from sklearn.pipeline import make_pipeline\n",
        "from sklearn.model_selection import GridSearchCV\n",
        "\n",
        "\n",
        "pca = PCA(n_components=150, whiten=True, random_state=42)\n",
        "svc = SVC(kernel='rbf', class_weight='balanced')\n",
        "model = make_pipeline(pca, svc)\n",
        "\n",
        "param_grid = {'svc__C': [1, 5, 10, 50],\n",
        "              'svc__gamma': [0.0001, 0.0005, 0.001, 0.005]}\n",
        "grid = GridSearchCV(model, param_grid)\n",
        "\n",
        "%time grid.fit(X_new_train, y_new_train)\n",
        "print(grid.best_params_)\n",
        "\n",
        "svm_val = grid.best_estimator_\n",
        "yfit = svm_val.predict(X_val)\n",
        "roc_auc_score(y_val, yfit)"
      ]
    },
    {
      "cell_type": "code",
      "execution_count": null,
      "metadata": {
        "id": "7QcQavQoYsLe"
      },
      "outputs": [],
      "source": [
        "svc = SVC(kernel='rbf', class_weight='balanced')\n",
        "pca = PCA(whiten=True)\n",
        "svm_model = SVC(kernel='rbf', class_weight='balanced')\n",
        "svm_model = make_pipeline(pca, svc)\n",
        "svm_model.fit(X_train, y_train)\n",
        "y_pred = svm_model.predict(X_test)\n",
        "\n",
        "samples['Class'] = y_pred\n",
        "samples_subset = samples[['Name', 'Class']]\n",
        "samples_subset.to_csv('samplesSVM_2.csv', index=False)\n",
        "# Score: 0.59008"
      ]
    },
    {
      "cell_type": "code",
      "execution_count": null,
      "metadata": {
        "colab": {
          "base_uri": "https://localhost:8080/"
        },
        "id": "TBDHZOWSZcyJ",
        "outputId": "c986db05-1343-45cc-f89c-9570e896d368"
      },
      "outputs": [
        {
          "output_type": "execute_result",
          "data": {
            "text/plain": [
              "0.632047197321525"
            ]
          },
          "metadata": {},
          "execution_count": 182
        }
      ],
      "source": [
        "# Validation\n",
        "svc = SVC(kernel='rbf', class_weight='balanced')\n",
        "pca = PCA(whiten=True)\n",
        "svm_model_val = SVC(kernel='rbf', class_weight='balanced')\n",
        "svm_model_val = make_pipeline(pca, svc)\n",
        "svm_model_val.fit(X_new_train, y_new_train)\n",
        "y_pred = svm_model_val.predict(X_val)\n",
        "\n",
        "roc_auc_score(y_val, y_pred)"
      ]
    },
    {
      "cell_type": "markdown",
      "metadata": {
        "id": "J7LkjAKQqq_Z"
      },
      "source": [
        "# Decision Tree"
      ]
    },
    {
      "cell_type": "code",
      "execution_count": null,
      "metadata": {
        "id": "w0Y5pj6MWLtq"
      },
      "outputs": [],
      "source": [
        "from sklearn.tree import DecisionTreeClassifier\n",
        "from sklearn import tree\n",
        "\n",
        "dt = tree.DecisionTreeClassifier()\n",
        "dt.fit(X_train, y_train)\n",
        "y_pred = dt.predict(X_test)\n",
        "\n",
        "samples['Class'] = y_pred\n",
        "samples_subset = samples[['Name', 'Class']]\n",
        "samples_subset.to_csv('samplesDT.csv', index=False)\n",
        "# Score: 0.54957"
      ]
    },
    {
      "cell_type": "code",
      "execution_count": null,
      "metadata": {
        "colab": {
          "base_uri": "https://localhost:8080/"
        },
        "id": "av6akBWcWO8A",
        "outputId": "08230e29-ee01-448c-d517-dd44cda740a5"
      },
      "outputs": [
        {
          "output_type": "execute_result",
          "data": {
            "text/plain": [
              "0.5644913057565613"
            ]
          },
          "metadata": {},
          "execution_count": 184
        }
      ],
      "source": [
        "# Validation\n",
        "dt_val = tree.DecisionTreeClassifier()\n",
        "dt_val.fit(X_new_train, y_new_train)\n",
        "y_predict = dt_val.predict(X_val)\n",
        "\n",
        "roc_auc_score(y_val, y_predict)"
      ]
    },
    {
      "cell_type": "code",
      "execution_count": null,
      "metadata": {
        "id": "fXx8sxc2qtFm"
      },
      "outputs": [],
      "source": [
        "# Entropy\n",
        "from sklearn.tree import DecisionTreeClassifier\n",
        "\n",
        "dt_entropy = DecisionTreeClassifier(criterion  = \"entropy\", random_state = 0)\n",
        "dt_entropy.fit(X_train, y_train)\n",
        "y_pred = dt_entropy.predict(X_test)\n",
        "\n",
        "\n",
        "samples['Class'] = y_pred\n",
        "samples_subset = samples[['Name', 'Class']]\n",
        "samples_subset.to_csv('samplesDTEntropy.csv', index=False)\n",
        "# Score: 0.56210"
      ]
    },
    {
      "cell_type": "code",
      "execution_count": null,
      "metadata": {
        "colab": {
          "base_uri": "https://localhost:8080/"
        },
        "id": "bn7f1zeNxX0K",
        "outputId": "ae81c030-4311-4954-f276-7b66881a9022"
      },
      "outputs": [
        {
          "output_type": "execute_result",
          "data": {
            "text/plain": [
              "0.6042634193757425"
            ]
          },
          "metadata": {},
          "execution_count": 186
        }
      ],
      "source": [
        "# Validation\n",
        "dt_entropy_val = DecisionTreeClassifier(criterion  = \"entropy\", random_state = 0)\n",
        "dt_entropy_val.fit(X_new_train, y_new_train)\n",
        "y_pred = dt_entropy_val.predict(X_val)\n",
        "\n",
        "roc_auc_score(y_val, y_pred)"
      ]
    },
    {
      "cell_type": "code",
      "execution_count": null,
      "metadata": {
        "id": "-ZnqpI8-qtHh"
      },
      "outputs": [],
      "source": [
        "# Gini\n",
        "dt_gini = DecisionTreeClassifier(criterion  = \"gini\", random_state = 0)\n",
        "dt_gini.fit(X_train, y_train)\n",
        "y_pred = dt_gini.predict(X_test)\n",
        "\n",
        "samples['Class'] = y_pred\n",
        "samples_subset = samples[['Name', 'Class']]\n",
        "samples_subset.to_csv('samplesDTGini.csv', index=False)\n",
        "# Score: 0.54796"
      ]
    },
    {
      "cell_type": "code",
      "execution_count": null,
      "metadata": {
        "colab": {
          "base_uri": "https://localhost:8080/"
        },
        "id": "iPD9_mWyxYSx",
        "outputId": "0b5ae906-4eaa-4ee5-a03c-d174c78da7f2"
      },
      "outputs": [
        {
          "output_type": "execute_result",
          "data": {
            "text/plain": [
              "0.5625607517010476"
            ]
          },
          "metadata": {},
          "execution_count": 188
        }
      ],
      "source": [
        "# Validation\n",
        "dt_gini_val = DecisionTreeClassifier(criterion  = \"gini\", random_state = 0)\n",
        "dt_gini_val.fit(X_new_train, y_new_train)\n",
        "y_pred = dt_gini_val.predict(X_val)\n",
        "\n",
        "roc_auc_score(y_val, y_pred)"
      ]
    },
    {
      "cell_type": "markdown",
      "metadata": {
        "id": "yd077YhwhEy0"
      },
      "source": [
        "# Random Forest\n"
      ]
    },
    {
      "cell_type": "code",
      "execution_count": null,
      "metadata": {
        "colab": {
          "base_uri": "https://localhost:8080/"
        },
        "id": "uitZ6LPfgwbU",
        "outputId": "d8e9e071-d946-4b73-d789-5618d39d6025"
      },
      "outputs": [
        {
          "output_type": "stream",
          "name": "stdout",
          "text": [
            "{'n_estimators': 100}\n"
          ]
        }
      ],
      "source": [
        "from sklearn.ensemble import RandomForestClassifier\n",
        "\n",
        "# Finding the best estimator\n",
        "rf = RandomForestClassifier()\n",
        "\n",
        "#create a dictionary of all values we want to test for n_estimators\n",
        "params_rf = {'n_estimators': [50, 100, 200]}\n",
        "\n",
        "#use gridsearch to test all values for n_estimators\n",
        "rf_gs = GridSearchCV(rf, params_rf, cv=5)\n",
        "\n",
        "#fit model to training data\n",
        "rf_gs.fit(X_train, y_train)\n",
        "\n",
        "#save best model\n",
        "rf_best = rf_gs.best_estimator_\n",
        "\n",
        "#check best n_estimators value\n",
        "print(rf_gs.best_params_)"
      ]
    },
    {
      "cell_type": "code",
      "execution_count": null,
      "metadata": {
        "id": "GrmZd1xnqw6D"
      },
      "outputs": [],
      "source": [
        "from sklearn.ensemble import RandomForestClassifier\n",
        "\n",
        "rf = RandomForestClassifier(n_estimators = 50)\n",
        "rf.fit(X_train, y_train)\n",
        "y_pred = rf.predict(X_test)\n",
        "\n",
        "samples['Class'] = y_pred\n",
        "samples_subset = samples[['Name', 'Class']]\n",
        "samples_subset.to_csv('samplesRF.csv', index=False)\n",
        "# Score:  0.65023 (200) /  0.65140 (50)"
      ]
    },
    {
      "cell_type": "code",
      "execution_count": null,
      "metadata": {
        "colab": {
          "base_uri": "https://localhost:8080/"
        },
        "id": "n07WxdODqxU2",
        "outputId": "96aaf051-875a-4c1b-e32b-ba842aac7c31"
      },
      "outputs": [
        {
          "output_type": "stream",
          "name": "stdout",
          "text": [
            "{'n_estimators': 200}\n"
          ]
        }
      ],
      "source": [
        "# Validation\n",
        "from sklearn.ensemble import RandomForestClassifier\n",
        "\n",
        "# Finding the best estimator\n",
        "rf = RandomForestClassifier()\n",
        "\n",
        "#create a dictionary of all values we want to test for n_estimators\n",
        "params_rf = {'n_estimators': [50, 100, 200]}\n",
        "\n",
        "#use gridsearch to test all values for n_estimators\n",
        "rf_gs = GridSearchCV(rf, params_rf, cv=5)\n",
        "\n",
        "#fit model to training data\n",
        "rf_gs.fit(X_new_train, y_new_train)\n",
        "\n",
        "#save best model\n",
        "rf_best = rf_gs.best_estimator_\n",
        "\n",
        "#check best n_estimators value\n",
        "print(rf_gs.best_params_)\n"
      ]
    },
    {
      "cell_type": "code",
      "execution_count": null,
      "metadata": {
        "colab": {
          "base_uri": "https://localhost:8080/"
        },
        "id": "caw2S0_1gNtR",
        "outputId": "7bced317-e170-4e6a-f724-eb5a788fa682"
      },
      "outputs": [
        {
          "output_type": "execute_result",
          "data": {
            "text/plain": [
              "0.6445080462252942"
            ]
          },
          "metadata": {},
          "execution_count": 192
        }
      ],
      "source": [
        "rf_val = RandomForestClassifier(n_estimators = 200)\n",
        "rf_val.fit(X_new_train, y_new_train)\n",
        "y_pred = rf_val.predict(X_val)\n",
        "\n",
        "roc_auc_score(y_val, y_pred)"
      ]
    },
    {
      "cell_type": "markdown",
      "metadata": {
        "id": "sy00qYvfq1r9"
      },
      "source": [
        "# Ensemble Learning"
      ]
    },
    {
      "cell_type": "code",
      "execution_count": null,
      "metadata": {
        "id": "cenLqG9Pq3HZ"
      },
      "outputs": [],
      "source": [
        "from sklearn.ensemble import VotingClassifier\n",
        "\n",
        "estimators = [('nb', nb), ('Log Regression', log), ('svm', svm), ('rf', rf), ('svm2', svm_model), ('knn', knn), ('dt', dt),\n",
        "              ('dt_gini', dt_gini), ('dt_entropy', dt_entropy)]\n",
        "ensemble = VotingClassifier(estimators, voting = 'hard')\n",
        "ensemble.fit(X_train, y_train)\n",
        "y_pred = ensemble.predict(X_test)\n",
        "\n",
        "samples['Class'] = y_pred\n",
        "samples_subset = samples[['Name', 'Class']]\n",
        "samples_subset.to_csv('samplesEnsemble.csv', index=False)\n",
        "# Score: 0.615"
      ]
    },
    {
      "cell_type": "code",
      "execution_count": null,
      "metadata": {
        "id": "H7gK9iHdq3Ke",
        "colab": {
          "base_uri": "https://localhost:8080/"
        },
        "outputId": "1c8a2eb9-89b0-4689-d5bf-42e75b638b4f"
      },
      "outputs": [
        {
          "output_type": "execute_result",
          "data": {
            "text/plain": [
              "0.5588346473701263"
            ]
          },
          "metadata": {},
          "execution_count": 194
        }
      ],
      "source": [
        "# Validation\n",
        "\n",
        "from sklearn.ensemble import VotingClassifier\n",
        "\n",
        "estimators = [('nb', nb_val), ('Log Regression', log_val), ('svm', svm_val), ('svm2', svm_model_val), ('knn', knn_val), ('dt', dt_val),\n",
        "              ('dt_gini', dt_gini_val), ('dt_entropy', dt_entropy_val)]\n",
        "ensemble = VotingClassifier(estimators, voting = 'hard')\n",
        "ensemble.fit(X_new_train, y_new_train)\n",
        "y_pred = ensemble.predict(X_val)\n",
        "\n",
        "roc_auc_score(y_val, y_pred)"
      ]
    },
    {
      "cell_type": "markdown",
      "metadata": {
        "id": "RXFHq_p8HwYg"
      },
      "source": [
        "# Gradient Boosting\n"
      ]
    },
    {
      "cell_type": "code",
      "execution_count": null,
      "metadata": {
        "colab": {
          "base_uri": "https://localhost:8080/"
        },
        "id": "NhBqsZiJHxs-",
        "outputId": "786c1a49-81a0-42d8-d781-add06a19d197"
      },
      "outputs": [
        {
          "output_type": "execute_result",
          "data": {
            "text/plain": [
              "0.6356787990063723"
            ]
          },
          "metadata": {},
          "execution_count": 195
        }
      ],
      "source": [
        "# Validation\n",
        "from sklearn.ensemble import GradientBoostingClassifier\n",
        "\n",
        "# Define the hyperparameters\n",
        "params = {\n",
        "    'learning_rate': 0.05,\n",
        "    'n_estimators': 200,\n",
        "    'subsample': 0.8,\n",
        "    'max_depth': 5,\n",
        "    'min_samples_split': 5,\n",
        "    'min_samples_leaf': 2,\n",
        "    'max_features': 'sqrt',\n",
        "    'random_state': 42\n",
        "}\n",
        "\n",
        "# Initialize the GBM classifier with the defined hyperparameters\n",
        "gbm_classifier = GradientBoostingClassifier(**params)\n",
        "\n",
        "# Train the classifier\n",
        "gbm_classifier.fit(X_new_train, y_new_train)\n",
        "\n",
        "# Predict on the test set\n",
        "y_pred = gbm_classifier.predict(X_val)\n",
        "\n",
        "roc_auc_score(y_val, y_pred)"
      ]
    },
    {
      "cell_type": "code",
      "source": [
        "\n",
        "from sklearn.ensemble import GradientBoostingClassifier\n",
        "\n",
        "# Define the hyperparameters\n",
        "params = {\n",
        "    'learning_rate': 0.05,\n",
        "    'n_estimators': 200,\n",
        "    'subsample': 0.8,\n",
        "    'max_depth': 5,\n",
        "    'min_samples_split': 5,\n",
        "    'min_samples_leaf': 2,\n",
        "    'max_features': 'sqrt',\n",
        "    'random_state': 42\n",
        "}\n",
        "\n",
        "# Initialize the GBM classifier with the defined hyperparameters\n",
        "gbm_classifier = GradientBoostingClassifier(**params)\n",
        "\n",
        "# Train the classifier\n",
        "gbm_classifier.fit(X_train, y_train)\n",
        "\n",
        "# Predict on the test set\n",
        "y_pred = gbm_classifier.predict(X_test)\n",
        "\n",
        "# Save the predictions to a CSV file\n",
        "samples['Class'] = y_pred\n",
        "samples_subset = samples[['Name', 'Class']]\n",
        "samples_subset.to_csv('samplesGBM.csv', index=False)\n"
      ],
      "metadata": {
        "id": "e-wmLp6SSZ-L"
      },
      "execution_count": null,
      "outputs": []
    },
    {
      "cell_type": "markdown",
      "metadata": {
        "id": "kk6JIpZXIRv4"
      },
      "source": [
        "# XGBoost"
      ]
    },
    {
      "cell_type": "code",
      "source": [
        "import xgboost as xgb\n",
        "\n",
        "# Define the hyperparameters\n",
        "params = {\n",
        "    'learning_rate': 0.2,\n",
        "    'max_depth': 3,\n",
        "    'min_child_weight': 1,\n",
        "    'gamma': 0,\n",
        "    'subsample': 0.8,\n",
        "    'colsample_bytree': 0.8,\n",
        "    'n_estimators': 200\n",
        "}\n",
        "\n",
        "# Initialize the XGBoost classifier with the defined hyperparameters\n",
        "xgb_classifier = xgb.XGBClassifier(**params)\n",
        "\n",
        "# Train the classifier\n",
        "xgb_classifier.fit(X_train, y_train)\n",
        "\n",
        "# Predict on the test set\n",
        "y_pred = xgb_classifier.predict(X_test)\n",
        "\n",
        "# Save the predictions to a CSV file\n",
        "samples['Class'] = y_pred\n",
        "samples_subset = samples[['Name', 'Class']]\n",
        "samples_subset.to_csv('samplesXG3.csv', index=False)\n",
        "# 0.66647 beeeeest"
      ],
      "metadata": {
        "id": "YrIi033MNs5z"
      },
      "execution_count": null,
      "outputs": []
    },
    {
      "cell_type": "code",
      "source": [
        "#validation\n",
        "import xgboost as xgb\n",
        "\n",
        "# Define the hyperparameters\n",
        "params = {\n",
        "    'learning_rate': 0.2,\n",
        "    'max_depth': 3,\n",
        "    'min_child_weight': 1,\n",
        "    'gamma': 0,\n",
        "    'subsample': 0.8,\n",
        "    'colsample_bytree': 0.8,\n",
        "    'n_estimators': 200\n",
        "}\n",
        "\n",
        "# Initialize the XGBoost classifier with the defined hyperparameters\n",
        "xgb_classifier = xgb.XGBClassifier(**params)\n",
        "\n",
        "# Train the classifier\n",
        "xgb_classifier.fit(X_new_train, y_new_train)\n",
        "\n",
        "# Predict on the test set\n",
        "y_pred = xgb_classifier.predict(X_val)\n",
        "\n",
        "roc_auc_score(y_val, y_pred)"
      ],
      "metadata": {
        "colab": {
          "base_uri": "https://localhost:8080/"
        },
        "id": "zIKFBnKoSBAn",
        "outputId": "18982cf8-8c8b-44ae-d106-4326f5b469a3"
      },
      "execution_count": null,
      "outputs": [
        {
          "output_type": "execute_result",
          "data": {
            "text/plain": [
              "0.6156172372826438"
            ]
          },
          "metadata": {},
          "execution_count": 198
        }
      ]
    },
    {
      "cell_type": "code",
      "source": [
        "import xgboost as xgb\n",
        "\n",
        "# Define the hyperparameters\n",
        "params = {\n",
        "    'learning_rate': 0.2,\n",
        "    'max_depth': 5,\n",
        "    'min_child_weight': 3,\n",
        "    'gamma': 0,\n",
        "    'subsample': 0.8,\n",
        "    'colsample_bytree': 0.8,\n",
        "    'n_estimators': 200\n",
        "}\n",
        "\n",
        "# Initialize the XGBoost classifier with the defined hyperparameters\n",
        "xgb_classifier2 = xgb.XGBClassifier(**params)\n",
        "\n",
        "# Train the classifier\n",
        "xgb_classifier2.fit(X_train, y_train)\n",
        "\n",
        "# Predict on the test set\n",
        "y_pred = xgb_classifier2.predict(X_test)\n",
        "\n",
        "# Save the predictions to a CSV file\n",
        "samples['Class'] = y_pred\n",
        "samples_subset = samples[['Name', 'Class']]\n",
        "samples_subset.to_csv('samplesXG6.csv', index=False)\n",
        "# 0.65989"
      ],
      "metadata": {
        "id": "ug2zlbMmP_J0"
      },
      "execution_count": null,
      "outputs": []
    },
    {
      "cell_type": "code",
      "source": [
        "# validation 2\n",
        "import xgboost as xgb\n",
        "\n",
        "# Define the hyperparameters\n",
        "params = {\n",
        "    'learning_rate': 0.2,\n",
        "    'max_depth': 5,\n",
        "    'min_child_weight': 3,\n",
        "    'gamma': 0,\n",
        "    'subsample': 0.8,\n",
        "    'colsample_bytree': 0.8,\n",
        "    'n_estimators': 200\n",
        "}\n",
        "\n",
        "# Initialize the XGBoost classifier with the defined hyperparameters\n",
        "xgb_classifier2 = xgb.XGBClassifier(**params)\n",
        "\n",
        "# Train the classifier\n",
        "xgb_classifier2.fit(X_new_train, y_new_train)\n",
        "\n",
        "# Predict on the test set\n",
        "y_pred = xgb_classifier2.predict(X_val)\n",
        "\n",
        "\n",
        "roc_auc_score(y_val, y_pred)"
      ],
      "metadata": {
        "colab": {
          "base_uri": "https://localhost:8080/"
        },
        "id": "c2bWNNPgSQfX",
        "outputId": "2e6d6ac0-fbc1-4d85-bab5-cee4823ce5f3"
      },
      "execution_count": null,
      "outputs": [
        {
          "output_type": "execute_result",
          "data": {
            "text/plain": [
              "0.6292796198293552"
            ]
          },
          "metadata": {},
          "execution_count": 200
        }
      ]
    }
  ],
  "metadata": {
    "colab": {
      "provenance": []
    },
    "kernelspec": {
      "display_name": "Python 3",
      "name": "python3"
    },
    "language_info": {
      "name": "python"
    }
  },
  "nbformat": 4,
  "nbformat_minor": 0
}